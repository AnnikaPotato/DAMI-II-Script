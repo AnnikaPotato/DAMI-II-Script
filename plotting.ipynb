{
 "cells": [
  {
   "cell_type": "code",
<<<<<<< HEAD
<<<<<<< HEAD
   "execution_count": 31,
=======
   "execution_count": 2,
>>>>>>> a1253ba (fix scale in not-pre-processed)
=======
   "execution_count": 2,
=======
   "execution_count": 31,
>>>>>>> 614ac1a (visualization of gbdt of unprocessed dataset)
>>>>>>> 34a680b (gbdt visualization)
   "metadata": {},
   "outputs": [],
   "source": [
    "import matplotlib.lines as mlines\n",
    "import matplotlib.patches as mpatches\n",
    "import matplotlib.pyplot as plt\n",
    "import numpy as np\n"
   ]
  },
  {
   "cell_type": "code",
<<<<<<< HEAD
<<<<<<< HEAD
   "execution_count": 27,
=======
=======
>>>>>>> 34a680b (gbdt visualization)
   "execution_count": 3,
   "metadata": {},
   "outputs": [
    {
     "data": {
      "text/html": [
       "<div>\n",
       "<style scoped>\n",
       "    .dataframe tbody tr th:only-of-type {\n",
       "        vertical-align: middle;\n",
       "    }\n",
       "\n",
       "    .dataframe tbody tr th {\n",
       "        vertical-align: top;\n",
       "    }\n",
       "\n",
       "    .dataframe thead th {\n",
       "        text-align: right;\n",
       "    }\n",
       "</style>\n",
       "<table border=\"1\" class=\"dataframe\">\n",
       "  <thead>\n",
       "    <tr style=\"text-align: right;\">\n",
       "      <th></th>\n",
       "      <th>Time</th>\n",
       "      <th>V1</th>\n",
       "      <th>V2</th>\n",
       "      <th>V3</th>\n",
       "      <th>V4</th>\n",
       "      <th>V5</th>\n",
       "      <th>V6</th>\n",
       "      <th>V7</th>\n",
       "      <th>V8</th>\n",
       "      <th>V9</th>\n",
       "      <th>...</th>\n",
       "      <th>V21</th>\n",
       "      <th>V22</th>\n",
       "      <th>V23</th>\n",
       "      <th>V24</th>\n",
       "      <th>V25</th>\n",
       "      <th>V26</th>\n",
       "      <th>V27</th>\n",
       "      <th>V28</th>\n",
       "      <th>Amount</th>\n",
       "      <th>Class</th>\n",
       "    </tr>\n",
       "  </thead>\n",
       "  <tbody>\n",
       "    <tr>\n",
       "      <th>0</th>\n",
       "      <td>0.0</td>\n",
       "      <td>-1.359807</td>\n",
       "      <td>-0.072781</td>\n",
       "      <td>2.536347</td>\n",
       "      <td>1.378155</td>\n",
       "      <td>-0.338321</td>\n",
       "      <td>0.462388</td>\n",
       "      <td>0.239599</td>\n",
       "      <td>0.098698</td>\n",
       "      <td>0.363787</td>\n",
       "      <td>...</td>\n",
       "      <td>-0.018307</td>\n",
       "      <td>0.277838</td>\n",
       "      <td>-0.110474</td>\n",
       "      <td>0.066928</td>\n",
       "      <td>0.128539</td>\n",
       "      <td>-0.189115</td>\n",
       "      <td>0.133558</td>\n",
       "      <td>-0.021053</td>\n",
       "      <td>149.62</td>\n",
       "      <td>0</td>\n",
       "    </tr>\n",
       "    <tr>\n",
       "      <th>1</th>\n",
       "      <td>0.0</td>\n",
       "      <td>1.191857</td>\n",
       "      <td>0.266151</td>\n",
       "      <td>0.166480</td>\n",
       "      <td>0.448154</td>\n",
       "      <td>0.060018</td>\n",
       "      <td>-0.082361</td>\n",
       "      <td>-0.078803</td>\n",
       "      <td>0.085102</td>\n",
       "      <td>-0.255425</td>\n",
       "      <td>...</td>\n",
       "      <td>-0.225775</td>\n",
       "      <td>-0.638672</td>\n",
       "      <td>0.101288</td>\n",
       "      <td>-0.339846</td>\n",
       "      <td>0.167170</td>\n",
       "      <td>0.125895</td>\n",
       "      <td>-0.008983</td>\n",
       "      <td>0.014724</td>\n",
       "      <td>2.69</td>\n",
       "      <td>0</td>\n",
       "    </tr>\n",
       "    <tr>\n",
       "      <th>2</th>\n",
       "      <td>1.0</td>\n",
       "      <td>-1.358354</td>\n",
       "      <td>-1.340163</td>\n",
       "      <td>1.773209</td>\n",
       "      <td>0.379780</td>\n",
       "      <td>-0.503198</td>\n",
       "      <td>1.800499</td>\n",
       "      <td>0.791461</td>\n",
       "      <td>0.247676</td>\n",
       "      <td>-1.514654</td>\n",
       "      <td>...</td>\n",
       "      <td>0.247998</td>\n",
       "      <td>0.771679</td>\n",
       "      <td>0.909412</td>\n",
       "      <td>-0.689281</td>\n",
       "      <td>-0.327642</td>\n",
       "      <td>-0.139097</td>\n",
       "      <td>-0.055353</td>\n",
       "      <td>-0.059752</td>\n",
       "      <td>378.66</td>\n",
       "      <td>0</td>\n",
       "    </tr>\n",
       "    <tr>\n",
       "      <th>3</th>\n",
       "      <td>1.0</td>\n",
       "      <td>-0.966272</td>\n",
       "      <td>-0.185226</td>\n",
       "      <td>1.792993</td>\n",
       "      <td>-0.863291</td>\n",
       "      <td>-0.010309</td>\n",
       "      <td>1.247203</td>\n",
       "      <td>0.237609</td>\n",
       "      <td>0.377436</td>\n",
       "      <td>-1.387024</td>\n",
       "      <td>...</td>\n",
       "      <td>-0.108300</td>\n",
       "      <td>0.005274</td>\n",
       "      <td>-0.190321</td>\n",
       "      <td>-1.175575</td>\n",
       "      <td>0.647376</td>\n",
       "      <td>-0.221929</td>\n",
       "      <td>0.062723</td>\n",
       "      <td>0.061458</td>\n",
       "      <td>123.50</td>\n",
       "      <td>0</td>\n",
       "    </tr>\n",
       "    <tr>\n",
       "      <th>4</th>\n",
       "      <td>2.0</td>\n",
       "      <td>-1.158233</td>\n",
       "      <td>0.877737</td>\n",
       "      <td>1.548718</td>\n",
       "      <td>0.403034</td>\n",
       "      <td>-0.407193</td>\n",
       "      <td>0.095921</td>\n",
       "      <td>0.592941</td>\n",
       "      <td>-0.270533</td>\n",
       "      <td>0.817739</td>\n",
       "      <td>...</td>\n",
       "      <td>-0.009431</td>\n",
       "      <td>0.798278</td>\n",
       "      <td>-0.137458</td>\n",
       "      <td>0.141267</td>\n",
       "      <td>-0.206010</td>\n",
       "      <td>0.502292</td>\n",
       "      <td>0.219422</td>\n",
       "      <td>0.215153</td>\n",
       "      <td>69.99</td>\n",
       "      <td>0</td>\n",
       "    </tr>\n",
       "  </tbody>\n",
       "</table>\n",
       "<p>5 rows × 31 columns</p>\n",
       "</div>"
      ],
      "text/plain": [
       "   Time        V1        V2        V3        V4        V5        V6        V7  \\\n",
       "0   0.0 -1.359807 -0.072781  2.536347  1.378155 -0.338321  0.462388  0.239599   \n",
       "1   0.0  1.191857  0.266151  0.166480  0.448154  0.060018 -0.082361 -0.078803   \n",
       "2   1.0 -1.358354 -1.340163  1.773209  0.379780 -0.503198  1.800499  0.791461   \n",
       "3   1.0 -0.966272 -0.185226  1.792993 -0.863291 -0.010309  1.247203  0.237609   \n",
       "4   2.0 -1.158233  0.877737  1.548718  0.403034 -0.407193  0.095921  0.592941   \n",
       "\n",
       "         V8        V9  ...       V21       V22       V23       V24       V25  \\\n",
       "0  0.098698  0.363787  ... -0.018307  0.277838 -0.110474  0.066928  0.128539   \n",
       "1  0.085102 -0.255425  ... -0.225775 -0.638672  0.101288 -0.339846  0.167170   \n",
       "2  0.247676 -1.514654  ...  0.247998  0.771679  0.909412 -0.689281 -0.327642   \n",
       "3  0.377436 -1.387024  ... -0.108300  0.005274 -0.190321 -1.175575  0.647376   \n",
       "4 -0.270533  0.817739  ... -0.009431  0.798278 -0.137458  0.141267 -0.206010   \n",
       "\n",
       "        V26       V27       V28  Amount  Class  \n",
       "0 -0.189115  0.133558 -0.021053  149.62      0  \n",
       "1  0.125895 -0.008983  0.014724    2.69      0  \n",
       "2 -0.139097 -0.055353 -0.059752  378.66      0  \n",
       "3 -0.221929  0.062723  0.061458  123.50      0  \n",
       "4  0.502292  0.219422  0.215153   69.99      0  \n",
       "\n",
       "[5 rows x 31 columns]"
      ]
     },
     "execution_count": 3,
     "metadata": {},
     "output_type": "execute_result"
    }
   ],
   "source": [
    "data = pd.read_csv('creditcard.csv')\n",
    "data.head()"
   ]
  },
  {
   "cell_type": "code",
   "execution_count": 9,
<<<<<<< HEAD
>>>>>>> a1253ba (fix scale in not-pre-processed)
=======
=======
   "execution_count": 27,
>>>>>>> 614ac1a (visualization of gbdt of unprocessed dataset)
>>>>>>> 34a680b (gbdt visualization)
   "metadata": {},
   "outputs": [
    {
     "name": "stdout",
     "output_type": "stream",
     "text": [
      "492\n"
     ]
    }
   ],
   "source": [
<<<<<<< HEAD
<<<<<<< HEAD
    "gbdt = {'Accuracy': [], 'Precision':[], 'Recall' : [], 'F1': [], 'AUC': []}\n",
    "lr = {'Accuracy': [], 'Precision':[], 'Recall' : [], 'F1': [], 'AUC': []}\n",
    "rf = {'Accuracy': [], 'Precision':[], 'Recall' : [], 'F1': [], 'AUC': []}\n",
=======
=======
>>>>>>> 34a680b (gbdt visualization)
    "X = data.iloc[:, : -1]\n",
    "y = data.iloc[:, -1]\n",
    "print(y.sum())\n",
    "XStandard = pd.DataFrame(StandardScaler().fit(X).transform(X), columns = X.columns[:])\n",
    "pca_2d = PCA(n_components=2, random_state=RANDOM_SEED).fit_transform(XStandard)\n",
<<<<<<< HEAD
>>>>>>> a1253ba (fix scale in not-pre-processed)
=======
=======
    "gbdt = {'Accuracy': [], 'Precision':[], 'Recall' : [], 'F1': [], 'AUC': []}\n",
    "lr = {'Accuracy': [], 'Precision':[], 'Recall' : [], 'F1': [], 'AUC': []}\n",
    "rf = {'Accuracy': [], 'Precision':[], 'Recall' : [], 'F1': [], 'AUC': []}\n",
>>>>>>> 614ac1a (visualization of gbdt of unprocessed dataset)
>>>>>>> 34a680b (gbdt visualization)
    "\n",
    "models = [gbdt, lr, rf]\n",
    "\n",
    "ptr = -1\n",
    "with open('resultStatistic_NoPre.txt', 'r') as fhand:\n",
    "    while True:\n",
    "        line = fhand.readline()\n",
    "        if not line: break\n",
    "        if line.startswith('='):\n",
    "             ptr += 1\n",
    "             continue\n",
    "        if not line.startswith('\\t'): continue\n",
    "\n",
    "        labels = line.strip().split(':')\n",
    "        if labels[0] in models[ptr]:\n",
    "            models[ptr][labels[0]].append(float(labels[1]))"
   ]
  },
  {
   "cell_type": "code",
<<<<<<< HEAD
<<<<<<< HEAD
   "execution_count": 98,
   "metadata": {},
   "outputs": [
    {
     "data": {
      "text/plain": [
       "<matplotlib.legend.Legend at 0x2ae68f5e0>"
      ]
     },
     "execution_count": 98,
     "metadata": {},
     "output_type": "execute_result"
    },
=======
=======
>>>>>>> 34a680b (gbdt visualization)
   "execution_count": 5,
   "metadata": {},
   "outputs": [],
   "source": [
    "X_Train, X_Test, y_Train, y_Test = train_test_split(XStandard, y, test_size=0.3, \n",
    "                                                    random_state=RANDOM_SEED, stratify=y)"
   ]
  },
  {
   "cell_type": "code",
   "execution_count": 6,
   "metadata": {},
   "outputs": [
    {
     "ename": "KeyboardInterrupt",
     "evalue": "",
     "output_type": "error",
     "traceback": [
      "\u001b[0;31m---------------------------------------------------------------------------\u001b[0m",
      "\u001b[0;31mKeyboardInterrupt\u001b[0m                         Traceback (most recent call last)",
      "\u001b[1;32m/Users/jiayuanwei/Library/CloudStorage/OneDrive-StockholmUniversity/SBDSO/HT2023/DAMI II/project/scripts/plotting.ipynb Cell 5\u001b[0m line \u001b[0;36m3\n\u001b[1;32m      <a href='vscode-notebook-cell:/Users/jiayuanwei/Library/CloudStorage/OneDrive-StockholmUniversity/SBDSO/HT2023/DAMI%20II/project/scripts/plotting.ipynb#W4sZmlsZQ%3D%3D?line=0'>1</a>\u001b[0m gbdt \u001b[39m=\u001b[39m GradientBoostingClassifier(n_estimators\u001b[39m=\u001b[39m\u001b[39m100\u001b[39m, learning_rate\u001b[39m=\u001b[39m\u001b[39m1.0\u001b[39m, max_depth\u001b[39m=\u001b[39m\u001b[39m1\u001b[39m,\n\u001b[1;32m      <a href='vscode-notebook-cell:/Users/jiayuanwei/Library/CloudStorage/OneDrive-StockholmUniversity/SBDSO/HT2023/DAMI%20II/project/scripts/plotting.ipynb#W4sZmlsZQ%3D%3D?line=1'>2</a>\u001b[0m                                   random_state\u001b[39m=\u001b[39mRANDOM_SEED)\n\u001b[0;32m----> <a href='vscode-notebook-cell:/Users/jiayuanwei/Library/CloudStorage/OneDrive-StockholmUniversity/SBDSO/HT2023/DAMI%20II/project/scripts/plotting.ipynb#W4sZmlsZQ%3D%3D?line=2'>3</a>\u001b[0m gbdt\u001b[39m.\u001b[39;49mfit(X_Train, y_Train)\n\u001b[1;32m      <a href='vscode-notebook-cell:/Users/jiayuanwei/Library/CloudStorage/OneDrive-StockholmUniversity/SBDSO/HT2023/DAMI%20II/project/scripts/plotting.ipynb#W4sZmlsZQ%3D%3D?line=3'>4</a>\u001b[0m y_pred \u001b[39m=\u001b[39m gbdt\u001b[39m.\u001b[39mpredict(X_Test)\n\u001b[1;32m      <a href='vscode-notebook-cell:/Users/jiayuanwei/Library/CloudStorage/OneDrive-StockholmUniversity/SBDSO/HT2023/DAMI%20II/project/scripts/plotting.ipynb#W4sZmlsZQ%3D%3D?line=4'>5</a>\u001b[0m confusion_matrix(y_Test, y_pred)\n",
      "File \u001b[0;32m/Library/Frameworks/Python.framework/Versions/3.10/lib/python3.10/site-packages/sklearn/base.py:1152\u001b[0m, in \u001b[0;36m_fit_context.<locals>.decorator.<locals>.wrapper\u001b[0;34m(estimator, *args, **kwargs)\u001b[0m\n\u001b[1;32m   1145\u001b[0m     estimator\u001b[39m.\u001b[39m_validate_params()\n\u001b[1;32m   1147\u001b[0m \u001b[39mwith\u001b[39;00m config_context(\n\u001b[1;32m   1148\u001b[0m     skip_parameter_validation\u001b[39m=\u001b[39m(\n\u001b[1;32m   1149\u001b[0m         prefer_skip_nested_validation \u001b[39mor\u001b[39;00m global_skip_validation\n\u001b[1;32m   1150\u001b[0m     )\n\u001b[1;32m   1151\u001b[0m ):\n\u001b[0;32m-> 1152\u001b[0m     \u001b[39mreturn\u001b[39;00m fit_method(estimator, \u001b[39m*\u001b[39;49margs, \u001b[39m*\u001b[39;49m\u001b[39m*\u001b[39;49mkwargs)\n",
      "File \u001b[0;32m/Library/Frameworks/Python.framework/Versions/3.10/lib/python3.10/site-packages/sklearn/ensemble/_gb.py:532\u001b[0m, in \u001b[0;36mBaseGradientBoosting.fit\u001b[0;34m(self, X, y, sample_weight, monitor)\u001b[0m\n\u001b[1;32m    529\u001b[0m     \u001b[39mself\u001b[39m\u001b[39m.\u001b[39m_resize_state()\n\u001b[1;32m    531\u001b[0m \u001b[39m# fit the boosting stages\u001b[39;00m\n\u001b[0;32m--> 532\u001b[0m n_stages \u001b[39m=\u001b[39m \u001b[39mself\u001b[39;49m\u001b[39m.\u001b[39;49m_fit_stages(\n\u001b[1;32m    533\u001b[0m     X_train,\n\u001b[1;32m    534\u001b[0m     y_train,\n\u001b[1;32m    535\u001b[0m     raw_predictions,\n\u001b[1;32m    536\u001b[0m     sample_weight_train,\n\u001b[1;32m    537\u001b[0m     \u001b[39mself\u001b[39;49m\u001b[39m.\u001b[39;49m_rng,\n\u001b[1;32m    538\u001b[0m     X_val,\n\u001b[1;32m    539\u001b[0m     y_val,\n\u001b[1;32m    540\u001b[0m     sample_weight_val,\n\u001b[1;32m    541\u001b[0m     begin_at_stage,\n\u001b[1;32m    542\u001b[0m     monitor,\n\u001b[1;32m    543\u001b[0m )\n\u001b[1;32m    545\u001b[0m \u001b[39m# change shape of arrays after fit (early-stopping or additional ests)\u001b[39;00m\n\u001b[1;32m    546\u001b[0m \u001b[39mif\u001b[39;00m n_stages \u001b[39m!=\u001b[39m \u001b[39mself\u001b[39m\u001b[39m.\u001b[39mestimators_\u001b[39m.\u001b[39mshape[\u001b[39m0\u001b[39m]:\n",
      "File \u001b[0;32m/Library/Frameworks/Python.framework/Versions/3.10/lib/python3.10/site-packages/sklearn/ensemble/_gb.py:610\u001b[0m, in \u001b[0;36mBaseGradientBoosting._fit_stages\u001b[0;34m(self, X, y, raw_predictions, sample_weight, random_state, X_val, y_val, sample_weight_val, begin_at_stage, monitor)\u001b[0m\n\u001b[1;32m    603\u001b[0m         initial_loss \u001b[39m=\u001b[39m loss_(\n\u001b[1;32m    604\u001b[0m             y[\u001b[39m~\u001b[39msample_mask],\n\u001b[1;32m    605\u001b[0m             raw_predictions[\u001b[39m~\u001b[39msample_mask],\n\u001b[1;32m    606\u001b[0m             sample_weight[\u001b[39m~\u001b[39msample_mask],\n\u001b[1;32m    607\u001b[0m         )\n\u001b[1;32m    609\u001b[0m \u001b[39m# fit next stage of trees\u001b[39;00m\n\u001b[0;32m--> 610\u001b[0m raw_predictions \u001b[39m=\u001b[39m \u001b[39mself\u001b[39;49m\u001b[39m.\u001b[39;49m_fit_stage(\n\u001b[1;32m    611\u001b[0m     i,\n\u001b[1;32m    612\u001b[0m     X,\n\u001b[1;32m    613\u001b[0m     y,\n\u001b[1;32m    614\u001b[0m     raw_predictions,\n\u001b[1;32m    615\u001b[0m     sample_weight,\n\u001b[1;32m    616\u001b[0m     sample_mask,\n\u001b[1;32m    617\u001b[0m     random_state,\n\u001b[1;32m    618\u001b[0m     X_csc,\n\u001b[1;32m    619\u001b[0m     X_csr,\n\u001b[1;32m    620\u001b[0m )\n\u001b[1;32m    622\u001b[0m \u001b[39m# track loss\u001b[39;00m\n\u001b[1;32m    623\u001b[0m \u001b[39mif\u001b[39;00m do_oob:\n",
      "File \u001b[0;32m/Library/Frameworks/Python.framework/Versions/3.10/lib/python3.10/site-packages/sklearn/ensemble/_gb.py:245\u001b[0m, in \u001b[0;36mBaseGradientBoosting._fit_stage\u001b[0;34m(self, i, X, y, raw_predictions, sample_weight, sample_mask, random_state, X_csc, X_csr)\u001b[0m\n\u001b[1;32m    242\u001b[0m     sample_weight \u001b[39m=\u001b[39m sample_weight \u001b[39m*\u001b[39m sample_mask\u001b[39m.\u001b[39mastype(np\u001b[39m.\u001b[39mfloat64)\n\u001b[1;32m    244\u001b[0m X \u001b[39m=\u001b[39m X_csr \u001b[39mif\u001b[39;00m X_csr \u001b[39mis\u001b[39;00m \u001b[39mnot\u001b[39;00m \u001b[39mNone\u001b[39;00m \u001b[39melse\u001b[39;00m X\n\u001b[0;32m--> 245\u001b[0m tree\u001b[39m.\u001b[39;49mfit(X, residual, sample_weight\u001b[39m=\u001b[39;49msample_weight, check_input\u001b[39m=\u001b[39;49m\u001b[39mFalse\u001b[39;49;00m)\n\u001b[1;32m    247\u001b[0m \u001b[39m# update tree leaves\u001b[39;00m\n\u001b[1;32m    248\u001b[0m loss\u001b[39m.\u001b[39mupdate_terminal_regions(\n\u001b[1;32m    249\u001b[0m     tree\u001b[39m.\u001b[39mtree_,\n\u001b[1;32m    250\u001b[0m     X,\n\u001b[0;32m   (...)\u001b[0m\n\u001b[1;32m    257\u001b[0m     k\u001b[39m=\u001b[39mk,\n\u001b[1;32m    258\u001b[0m )\n",
      "File \u001b[0;32m/Library/Frameworks/Python.framework/Versions/3.10/lib/python3.10/site-packages/sklearn/base.py:1152\u001b[0m, in \u001b[0;36m_fit_context.<locals>.decorator.<locals>.wrapper\u001b[0;34m(estimator, *args, **kwargs)\u001b[0m\n\u001b[1;32m   1145\u001b[0m     estimator\u001b[39m.\u001b[39m_validate_params()\n\u001b[1;32m   1147\u001b[0m \u001b[39mwith\u001b[39;00m config_context(\n\u001b[1;32m   1148\u001b[0m     skip_parameter_validation\u001b[39m=\u001b[39m(\n\u001b[1;32m   1149\u001b[0m         prefer_skip_nested_validation \u001b[39mor\u001b[39;00m global_skip_validation\n\u001b[1;32m   1150\u001b[0m     )\n\u001b[1;32m   1151\u001b[0m ):\n\u001b[0;32m-> 1152\u001b[0m     \u001b[39mreturn\u001b[39;00m fit_method(estimator, \u001b[39m*\u001b[39;49margs, \u001b[39m*\u001b[39;49m\u001b[39m*\u001b[39;49mkwargs)\n",
      "File \u001b[0;32m/Library/Frameworks/Python.framework/Versions/3.10/lib/python3.10/site-packages/sklearn/tree/_classes.py:1320\u001b[0m, in \u001b[0;36mDecisionTreeRegressor.fit\u001b[0;34m(self, X, y, sample_weight, check_input)\u001b[0m\n\u001b[1;32m   1290\u001b[0m \u001b[39m@_fit_context\u001b[39m(prefer_skip_nested_validation\u001b[39m=\u001b[39m\u001b[39mTrue\u001b[39;00m)\n\u001b[1;32m   1291\u001b[0m \u001b[39mdef\u001b[39;00m \u001b[39mfit\u001b[39m(\u001b[39mself\u001b[39m, X, y, sample_weight\u001b[39m=\u001b[39m\u001b[39mNone\u001b[39;00m, check_input\u001b[39m=\u001b[39m\u001b[39mTrue\u001b[39;00m):\n\u001b[1;32m   1292\u001b[0m \u001b[39m    \u001b[39m\u001b[39m\"\"\"Build a decision tree regressor from the training set (X, y).\u001b[39;00m\n\u001b[1;32m   1293\u001b[0m \n\u001b[1;32m   1294\u001b[0m \u001b[39m    Parameters\u001b[39;00m\n\u001b[0;32m   (...)\u001b[0m\n\u001b[1;32m   1317\u001b[0m \u001b[39m        Fitted estimator.\u001b[39;00m\n\u001b[1;32m   1318\u001b[0m \u001b[39m    \"\"\"\u001b[39;00m\n\u001b[0;32m-> 1320\u001b[0m     \u001b[39msuper\u001b[39;49m()\u001b[39m.\u001b[39;49m_fit(\n\u001b[1;32m   1321\u001b[0m         X,\n\u001b[1;32m   1322\u001b[0m         y,\n\u001b[1;32m   1323\u001b[0m         sample_weight\u001b[39m=\u001b[39;49msample_weight,\n\u001b[1;32m   1324\u001b[0m         check_input\u001b[39m=\u001b[39;49mcheck_input,\n\u001b[1;32m   1325\u001b[0m     )\n\u001b[1;32m   1326\u001b[0m     \u001b[39mreturn\u001b[39;00m \u001b[39mself\u001b[39m\n",
      "File \u001b[0;32m/Library/Frameworks/Python.framework/Versions/3.10/lib/python3.10/site-packages/sklearn/tree/_classes.py:443\u001b[0m, in \u001b[0;36mBaseDecisionTree._fit\u001b[0;34m(self, X, y, sample_weight, check_input, missing_values_in_feature_mask)\u001b[0m\n\u001b[1;32m    432\u001b[0m \u001b[39melse\u001b[39;00m:\n\u001b[1;32m    433\u001b[0m     builder \u001b[39m=\u001b[39m BestFirstTreeBuilder(\n\u001b[1;32m    434\u001b[0m         splitter,\n\u001b[1;32m    435\u001b[0m         min_samples_split,\n\u001b[0;32m   (...)\u001b[0m\n\u001b[1;32m    440\u001b[0m         \u001b[39mself\u001b[39m\u001b[39m.\u001b[39mmin_impurity_decrease,\n\u001b[1;32m    441\u001b[0m     )\n\u001b[0;32m--> 443\u001b[0m builder\u001b[39m.\u001b[39;49mbuild(\u001b[39mself\u001b[39;49m\u001b[39m.\u001b[39;49mtree_, X, y, sample_weight, missing_values_in_feature_mask)\n\u001b[1;32m    445\u001b[0m \u001b[39mif\u001b[39;00m \u001b[39mself\u001b[39m\u001b[39m.\u001b[39mn_outputs_ \u001b[39m==\u001b[39m \u001b[39m1\u001b[39m \u001b[39mand\u001b[39;00m is_classifier(\u001b[39mself\u001b[39m):\n\u001b[1;32m    446\u001b[0m     \u001b[39mself\u001b[39m\u001b[39m.\u001b[39mn_classes_ \u001b[39m=\u001b[39m \u001b[39mself\u001b[39m\u001b[39m.\u001b[39mn_classes_[\u001b[39m0\u001b[39m]\n",
      "\u001b[0;31mKeyboardInterrupt\u001b[0m: "
     ]
    }
   ],
   "source": [
    "gbdt = GradientBoostingClassifier(n_estimators=100, learning_rate=1.0, max_depth=1,\n",
    "                                  random_state=RANDOM_SEED)\n",
    "gbdt.fit(X_Train, y_Train)\n",
    "y_pred = gbdt.predict(X_Test)\n",
    "confusion_matrix(y_Test, y_pred)"
   ]
  },
  {
   "cell_type": "code",
   "execution_count": null,
   "metadata": {},
   "outputs": [
<<<<<<< HEAD
>>>>>>> a1253ba (fix scale in not-pre-processed)
    {
     "data": {
      "text/plain": [
       "<Figure size 1000x500 with 0 Axes>"
      ]
     },
     "metadata": {},
=======
=======
   "execution_count": 98,
   "metadata": {},
   "outputs": [
    {
     "data": {
      "text/plain": [
       "<matplotlib.legend.Legend at 0x2ae68f5e0>"
      ]
     },
     "execution_count": 98,
     "metadata": {},
     "output_type": "execute_result"
    },
>>>>>>> 614ac1a (visualization of gbdt of unprocessed dataset)
    {
     "data": {
      "text/plain": [
       "<Figure size 1000x500 with 0 Axes>"
      ]
     },
     "metadata": {},
>>>>>>> 34a680b (gbdt visualization)
     "output_type": "display_data"
    },
    {
     "data": {
      "image/png": "iVBORw0KGgoAAAANSUhEUgAAApwAAAG5CAYAAAAjwuS9AAAAOXRFWHRTb2Z0d2FyZQBNYXRwbG90bGliIHZlcnNpb24zLjcuMiwgaHR0cHM6Ly9tYXRwbG90bGliLm9yZy8pXeV/AAAACXBIWXMAAA9hAAAPYQGoP6dpAAC7DUlEQVR4nOzdd3hUZdr48e+ZmWTSe6+EhBBa6ATpRbACgoBlFcGCfdV9XV1910V39XX3Z9ldG+guAmoUBenuqjQVpXdCL+m9T+pMMnN+fwwMxCSQhIRJuT/XlQvmnOc85x5Icu55qqKqqooQQgghhBBtRGPvAIQQQgghROcmCacQQgghhGhTknAKIYQQQog2JQmnEEIIIYRoU5JwCiGEEEKINiUJpxBCCCGEaFOScAohhBBCiDals3cA7VVtbS0HDhwgMDAQjUbyciGEEKIjsFgs5ObmMnDgQHQ6SXPaC/mfaMSBAwcYNmyYvcMQQgghRAvs3r2boUOH2jsMcZ4knI0IDAwErN+wwcHBdo5GCCGEEE2RnZ3NsGHDbM9x0T5IwtmIC93owcHBhIWF2TkaIYQQQjSHDIdrX+R/QwghhBBCtClJOIUQQgghRJuShFMIIYQQQrQpSTiFEEIIIUSbkoRTCCGEEEK0KUk4hRBCCCFEm5KEUwghhBBCtClJOIUQQgghRJuShFMIIYQQQrQpSTiFEEIIIUSbkoRT1PPBBx+gKAoJCQn1zqWkpKAoCm+++WaD17755psoikJKSkq9c6tXr+amm27Cz88PR0dHQkJCmD17Nlu2bGnttyCEEEKIdkQSTlFPYmIi3bp1Y/fu3Zw5c+aq61NVlXnz5jFjxgxyc3P53e9+x6JFi3j88cc5d+4cEydOZPv27a0QuRBCCCHaI529AxDtS3JyMtu3b2fVqlU8/PDDJCYmsmDBgquq86233mLp0qU8/fTTvP322yiKYjv3v//7v3z66afodPKtKIQQQnRW0sIp6khMTMTb25tbbrmFmTNnkpiYeFX1VVVV8frrrxMXF2frbv+1e++9l2HDhl3VfYQQQgjRfknCKepITExkxowZODo6ctddd3H69Gn27NnT4vp+/vlnioqKuPvuu9Fqta0YqRBCCCE6CunHbCUms6nZ12g1WrSKNQkzq2bMFjOKouCgcWhRvY5ax2bHcKl9+/Zx4sQJ3n33XQBGjRpFWFgYiYmJDB06tEV1Hj9+HIB+/fpdVWxCCCGE6Lgk4Wwl/7fv/5p9zayYWfTx6QPAieITrDizgkj3SOb1mmcr849D/6CytrJJ9b087OVmx3CpxMREAgMDGT9+PACKonDHHXfw2Wef8dZbb7WohdJgMADg7u5+VbEJIYQQouOSLnUBgNlsZvny5YwfP57k5GTOnDnDmTNnSEhIIDc3l82bNzervgtjNT08PAAoKytr9ZiFEEII0TFIC2creXHwi82+Rqu52GIY5x3Hi4NfrDep5un+T19taE2yZcsWsrOzWb58OcuXL693PjExkcmTJ+Pk5ARYJwM1pLLS2hp7oVxcXBwAR44c4bbbbmuDyIUQQgjR3knC2UqudvykVtE22GV9tfU2VWJiIgEBAbz//vv1zq1atYrVq1ezaNEi/P39cXFx4eTJkw3Wc/LkSVxcXPDz8wOs40C9vb354osvePHFF2XikBBCCNEFSZe6oKqqilWrVnHrrbcyc+bMel9PPPEEZWVlrFu3Dq1Wy+TJk1m/fj1paWl16klLS2P9+vVMnjzZlli6uLjw/PPPc/z4cZ5//nlUVa13/88++4zdu3dfk/cqhBBCiGtPWjgF69ato6ysjKlTpzZ4fvjw4fj7+5OYmMgdd9zB//3f/zF8+HAGDRrE/Pnz6datGykpKXz00UcoisL//V/dCVS///3vOXr0KG+99RZbt25l5syZBAUFkZOTw5o1a9i9e7fsNCSEEEJ0YpJwChITE3FycmLSpEkNntdoNNxyyy0kJiZSWFhIr1692LVrFy+//DKLFy+mqKgIHx8fJk2axIIFC2zjNi+9/pNPPmHatGl89NFHvPnmmxgMBvz9/RkzZgz/7//9P6677rpr8VaFEEIIYQeK2lAfpyAjI4Pw8HDS09MJCwuzdzhCCCGEaAJ5frdPMoZTCCGEEEK0KUk4hRBCCCFEm2p3CWd5eTkLFizgxhtvxMfHB0VRWLp0aZOvLykpYf78+fj7++Pq6sr48ePZv39/2wUshBBCCCEuq90lnAUFBfz5z3/m+PHj9O/fv1nXWiwWbrnlFj7//HOeeOIJ/t//+3/k5eUxbtw4Tp8+3UYRCyGEEEKIy2l3s9SDg4PJzs4mKCiIvXv3MnTo0CZfu3LlSrZv386KFSuYOXMmALNnzyY2NpYFCxbw+eeft1XYQgghhBCiEe2uhVOv1xMUFNSia1euXElgYCAzZsywHfP392f27NmsXbsWo9HYWmEKIYQQQogmancJ59U4cOAAgwYNQqOp+7aGDRtGZWUlp06davRao9GIwWCwfZWVlbV1uEIIIYQQXUKnSjizs7MJDg6ud/zCsaysrEavff311/H09LR99e7du83iFEIIIYToSjpVwllVVYVer6933MnJyXa+MS+88AKlpaW2r2PHjrVZnEIIIYQQXUm7mzR0NZydnRscp1ldXW073xi9Xl8nWTUYDK0foBBCCCFEF9SpWjgvzHD/tQvHQkJCrnVIQgghhBBdXqdKOAcMGMD+/fuxWCx1ju/atQsXFxdiY2PtFJkQQgghRNfVYRPO7OxsTpw4QU1Nje3YzJkzyc3NZdWqVbZjBQUFrFixgilTpjQ4vlN0DIqi8PLLL9teL126FEVRSElJsVtMQgghhGiadjmG87333qOkpMQ2q3z9+vVkZGQA8OSTT+Lp6ckLL7zAsmXLSE5Oplu3boA14Rw+fDjz5s3j2LFj+Pn58cEHH2A2m3nllVfs9XY6hKVLlzJv3jzba61WS2BgIJMmTeK1114jNDTUjtEJIYQQoiNrlwnnm2++SWpqqu31qlWrbK2W99xzD56eng1ep9Vq+c9//sPvf/973nnnHaqqqhg6dChLly6lZ8+e1yT2ju7Pf/4zUVFRVFdXs3PnTpYuXcrPP/9MUlKSbba/EEIIIURztMuEsyndpEuXLmXp0qX1jnt7e/Pvf/+bf//7360fWBdw0003MWTIEAAefPBB/Pz8+Nvf/sa6deuYPXu2naMTQgghREfUYcdwimtj9OjRAJw9e9Z27MSJE8ycORMfHx+cnJwYMmQI69atq3dtSUkJzzzzDN26dUOv1xMWFsacOXMoKCgAwGQy8ac//YnBgwfj6emJq6sro0ePZuvWrdfmzQkhhBDimmiXLZwdiaqqWMyqvcOw0WgVFEVptfoutDZ7e3sDcPToUUaOHEloaCh/+MMfcHV15auvvuK2227j66+/Zvr06QCUl5czevRojh8/zv3338+gQYMoKChg3bp1ZGRk4Ofnh8Fg4N///jd33XUXDz30EGVlZSxevJgbbriB3bt3M2DAgFZ7H0IIIYSwH0k4r5LFrPLT+uP2DsNmzJReaHUtTzhLS0spKCigurqaXbt28corr6DX67n11lsBeOqpp4iIiGDPnj22Wf+PPfYYo0aN4vnnn7clnG+88QZJSUmsWrXKdgzgj3/8I6pqTdC9vb1JSUnB0dHRdv6hhx4iLi6Od999l8WLF7f4fQghhBCi/ZAudVHH9ddfj7+/P+Hh4cycORNXV1fWrVtHWFgYRUVFbNmyhdmzZ1NWVkZBQQEFBQUUFhZyww03cPr0aTIzMwH4+uuv6d+/f51k84ILLbBardaWbFosFoqKiqitrWXIkCHs37//2r1pIYQQQrQpaeG8Shqtwpgpvewdho1Ge3Xd6e+//z6xsbGUlpby8ccf89NPP9laMs+cOYOqqrz00ku89NJLDV6fl5dHaGgoZ8+e5fbbb7/i/ZYtW8Zbb71Vb03VqKioq3ofQgghhGg/JOG8SoqiXFUXdnszbNgw2yz12267jVGjRnH33Xdz8uRJ2w5Ozz77LDfccEOD18fExDT5Xp999hlz587ltttu4/e//z0BAQFotVpef/31OpOUhBBCCNGxScIpGnUh+Rs/fjzvvfce999/PwAODg5cf/31l702OjqapKSky5ZZuXIl3bt3Z9WqVXUmOi1YsODqgxdCCCFEuyFjOMVljRs3jmHDhvGPf/wDDw8Pxo0bx4cffkh2dna9svn5+ba/33777Rw6dIjVq1fXK3dh0pBWq63zGqz73u/YsaO134YQQggh7EhaOMUV/f73v2fWrFksXbqU999/n1GjRtGvXz8eeughunfvTm5uLjt27CAjI4NDhw7Zrlm5ciWzZs3i/vvvZ/DgwRQVFbFu3ToWLVpE//79ufXWW22z2G+55RaSk5NZtGgRvXv3pry83M7vWgghhBCtRRJOcUUzZswgOjqaN998k4ceeoi9e/fyyiuvsHTpUgoLCwkICGDgwIH86U9/sl3j5ubGtm3bWLBgAatXr2bZsmUEBAQwceJEwsLCAJg7dy45OTl8+OGHfPfdd/Tu3ZvPPvuMFStW8MMPP9jp3QohhBCitSnqpf2ZwiYjI4Pw8HDS09NtCZIQQggh2jd5frdPMoZTCCGEEEK0KUk4hRBCCCFEm5KEUwghhBBCtClJOIUQQjSLyWwirzKvzrH3Dr/HWwfe4r3D7/Gvo//ikxOf8OXpL1l7bi3fpn7L1oytbM/ezr68fSQVJnGm5AylplLb9RbVgkW1XOu3IgTl5eUsWLCAG2+8ER8fHxRFYenSpU2+vqSkhPnz5+Pv74+rqyvjx49vdHvmdevWMWjQIJycnIiIiGDBggXU1tZekzrtTWapCyGEaLK0sjQSTyXi5uDGE/2esG3aUFZThtFspKymrMl13Rx5M8MCh9nqXXpiKSGuIczvM99WZkPKBqpqq9Br9fW+nLRODR531DjW2UxCiMspKCjgz3/+MxEREfTv379Zq6RYLBZuueUWDh06xO9//3v8/Pz44IMPGDduHPv27aNHjx62sv/973+57bbbGDduHO+++y5Hjhzh1VdfJS8vj4ULF7Zpne2BJJxCCCEaZVEtlJnK8NR7AhDoEoiqqlhUC4YaA56O1uMP93mYanM1RrOxzldDxy4cd3d0t92n2lwNgELdRPF0yek6LaFNMSFsAmNCxgBQUFXA2uS1eOu9mRE9w1bmYP5Bqs3VjSateq0eB42DJK5dQHBwMNnZ2QQFBbF3716GDh3a5GtXrlzJ9u3bWbFiBTNnzgRg9uzZxMbGsmDBAj7//HNb2WeffZb4+Hi+//57dDpr+uXh4cH//d//8dRTTxEXF9dmdbYHknAKIYSop6Kmgv35+9mbtxdnnTMP93kYRVHQa/U81OchfJ180SgXR2X5OPlc1f16ePbg2YHP1utWvz78eiprKjFajFTXXjmhVVHRa/UX30dtBenl6VTWVtapd0fODnKrci8bk16rZ3TIaEYEjajzXkXnotfrCQoKatG1K1euJDAwkBkzLn6Y8ff3Z/bs2Xz22WcYjUb0ej3Hjh3j2LFjvP/++7bEEOCxxx7jtddeY+XKlfzxj39sszrbA0k4hRBC2GSUZ7A7dzdHi45iVs2AdcymwWSwtXL6O/u3+n21Gi1uGrd6x/v59mtyHaqqUmOpqdMq6efkx+yY2fUSxh5ePfBz9ms0cQUwmo1sSt/EmZIz3Nb9Nrz0Xi17c8IuysrKMBgMttd6vR69Xn+ZK5rvwIEDDBo0CI2m7vfXsGHD+Oijjzh16hT9+vXjwIEDAAwZMqROuZCQEMLCwmzn26rO9kASTiGE6OJqLDUkFSaxJ28PWRVZtuMhriEMDRhKX9++OGgc7Bhh0yiKgqPWsc4xVwdXevv0rlf2+vDrG63Holps/ybfpn1LSlkKC5MW8nCfh6+6JVdcO7171/1/X7BgAS+//HKr3iM7O5sxY8bUOx4cHAxAVlYW/fr1Izs7u87xX5fNyrr4c9cWdbYHknAKIUQXVWwsZk/uHg7kH6DKXAWAVtHS16cvQwOHEubWNXdp0Sga9Fo9gwMG082jG6vOrsLNwQ1vvbe9QxPNcOzYMUJDQ22vW7t1E6CqqqrBep2cnGznL/2zsbKXtsS2RZ3tgSScQgjRxZwznGNnzk5OlZyyHfN09GRIwBAG+Q/C1cHVjtG1L75Ovtzf+35qzBe76qtrq8mtyiXSPdLO0YnLcXd3x8PDo03v4ezsjNForHe8urradv7SPxsre+F8W9XZHkjCKYQQXcyp4lO2ZDPaI5qhgUOJ9YqViTGN0CpatDqt7fU3qd9wpPAIN0TcwHVB19kxMmFvF2a4/9qFYyEhIbZyF46Hh4fXKzts2LA2rbM9kN8uop4PPvgARVFISEiwdyhCiKuUXZHN2uS1pBhSbMeGBg4lITCBJ/o9wb1x9xLnHSfJZhOZVTM6RYeC0mWHHIiLBgwYwP79+7FY6q6usGvXLlxcXIiNjbWVA9i7d2+dcllZWWRkZNjOt1Wd7YH8hhH1JCYm0q1bN3bv3s2ZM2fsHY4Q4irsy9/HgfwD7MrdZTvm6+TLTZE34efsZ8fIOiatomVa92k81u8xwt0utirlVuaiqqodIxNtLTs7mxMnTlBTU2M7NnPmTHJzc1m1apXtWEFBAStWrGDKlCm28ZV9+vQhLi6Ojz76CLPZbCu7cOFCFEWxrbfZVnW2B9KlLupITk5m+/btrFq1iocffpjExEQWLFhg77DqqaiowNVVxpkJcalSYyl78/cS5xVHqJt1ssSwgGFU11bbdvQRrePSpaHyqvL419F/EeURxbTu03BzqL+8k2jf3nvvPUpKSmwzu9evX09GRgYATz75JJ6enrzwwgssW7aM5ORkunXrBliTw+HDhzNv3jyOHTtm2xXIbDbzyiuv1LnHG2+8wdSpU5k8eTJ33nknSUlJvPfeezz44IP06tXLVq4t6mwXVNGg9PR0FVDT09PtHco19Ze//EX19vZWjUaj+uijj6o9evSoV6a4uFh9+umn1cjISNXR0VENDQ1V7733XjU/P99WpqqqSl2wYIHao0cPVa/Xq0FBQer06dPVM2fOqKqqqlu3blUBdevWrXXqTk5OVgF1yZIltmP33Xef6urqqp45c0a96aabVDc3N3XatGmqqqrqTz/9pM6cOVMNDw9XHR0d1bCwMPXpp59WKysr68V9/PhxddasWaqfn5/q5OSkxsbGqi+++KKqqqq6ZcsWFVBXrVpV77rExEQVULdv397cf04h2pzFYlHPlpxVvzj1hfryrpfVBbsWqF+f+dreYXUphwsOq3/e/Wd1wa4F6t/2/U09UXTC3iF1aS15fkdGRqpAg1/JycmqqlqfRZe+vqCoqEh94IEHVF9fX9XFxUUdO3asumfPngbvs3r1anXAgAGqXq9Xw8LC1D/+8Y+qyWSqV64t6rQ3RVWlD6AhGRkZhIeHk56eTljYlcfpqGZT4ycVDYpG17SyKChahxaVbQ29evVi5MiR/Pvf/2bbtm2MGTOG3bt327b6Ki8v57rrruP48ePcf//9DBo0iIKCAtatW8dHH33EgAEDMJvN3HDDDWzevJk777yTUaNGUVZWxsaNG/ntb3/LtGnT+OGHHxg/fjxbt25l3LhxtvunpKQQFRXFkiVLmDt3LgBz585l+fLlhIWFMWrUKK677jpcXFy49957+e1vf8vZs2cZNWoUvr6+7N69m6VLlzJ9+nRWrFhhq/fw4cOMHj0aBwcH5s+fT7du3Th79iz//e9/OXz4MKqqEhkZybBhw1i5cmWdf5NbbrmFkydPyvAC0a5Um6s5lH+IPXl7KKgusB3v5t6NhKAEenm3s9aNTi63MpdVZ1fZdi8a7D+YGyJuqLcuqGh7zX1+i2tDutRbifrzW42f9IlG6Tf7Ytnt74ClpuGynhEoA35zseyuD6CmquGy7kEog+a1JNwG7du3jxMnTvDuu+8CMGrUKMLCwkhMTLQlnG+88QZJSUmsWrWK6dOn26794x//aBu/9Mknn7B582befvttnnnmGVuZP/zhDy0e42Q0Gpk1axavv/56neN/+9vf6iz9MH/+fGJiYnjxxRdJS0sjIiICsHaJqKrK/v37bccA/vrXvwLWBaPvuece3n77bUpLS/H0tO6okp+fz/fff8///u//tihuIVpbbmUue/L2cKjgEDXnf484ahzp79efoQFDCXAJsHOEXVOgSyAP9XmIzRmb2ZGzg335+0gpS2FG9xm24Q1CdGUyaUjYJCYmEhgYyPjx4wFrEnbHHXewfPly24Dkr7/+mv79+9dJNi+4sEbd119/jZ+fH08++WSjZVri0UcfrXfs0mSzoqKCgoICRowYgaqqtm298vPz+emnn7j//vvrJJu/jmfOnDkYjcY6LZxffvkltbW13HPPPS2OW4irZbaYOVp0lCXHl7AwaSF78/ZSY6nBz8mPmyNv5ncDf8ct3W6RZNPOdBodN0TcwJyec3B3cKewupDFxxfzU9ZP9faIF6KrkRbOVqKM+p/LnKyb1ysjfnu5muq+SnisyWWvhtlsZvny5YwfP57k5GTb8YSEBN566y02b97M5MmTOXv2LLfffvtl6zp79iw9e/ZEp2u9by+dTtdg10haWhp/+tOfWLduHcXFxXXOlZaWAnDu3DkA+vbte9l7xMXFMXToUBITE3nggQcAaxI+fPhwYmJiWuNtCNFs1eZq3j/8PmU1ZQAoKMR5xzEscBjd3Ltd1Yc40Ta6e3bn0X6PsiFlA8eKjrElYwunS04zI3qG7FYkuixJOFuJ0oxxOm1V9mps2bKF7Oxsli9fzvLly+udT0xMZPLkya12v8Yekpcu7XApvV6PRqOpV3bSpEkUFRXx/PPPExcXh6urK5mZmcydO7feGmZNMWfOHJ566ikyMjIwGo3s3LmT9957r9n1CNFSqqpSUF1gmwXtpHXC39kfCxYG+w9mcMBgPB097RyluBIXnQuzomdxyOsQ/0n5D+nl6Sw8spBbut1CvG+8fFAQXY4knAKwJpQBAQG8//779c6tWrWK1atXs2jRIqKjo0lKSrpsXdHR0ezatYuamhocHBqe1OTtbf2UX1JSUud4ampqk2M+cuQIp06dYtmyZcyZM8d2fOPGjXXKde/eHeCKcQPceeed/O53v+OLL76gqqoKBwcH7rjjjibHJMTVMJqNfHzsY/Kr83m6/9N4OFq35but+2246FzQaeRXdkeiKAoD/AYQ6R7JqrOrSC9PZ/W51QS6BBLkEmTv8IS4pmQMp6CqqopVq1Zx6623MnPmzHpfTzzxBGVlZaxbt47bb7+dQ4cOsXr16nr1XJgQdPvtt1NQUNBgy+CFMpGRkWi1Wn766ac65z/44IMmx63VauvUeeHv//znP+uU8/f3Z8yYMXz88cekpaU1GM8Ffn5+3HTTTXz22WckJiZy44034ucni2OLtlNeU277u16rR6/Vo1E0ZFVk2Y57OHpIstmBeeu9mdtrLhPCJjAyeKQkm6JLkt9ggnXr1lFWVsbUqVMbPD98+HD8/f1JTEzk888/Z+XKlcyaNYv777+fwYMHU1RUxLp161i0aBH9+/dnzpw5fPLJJ/zud79j9+7djB49moqKCjZt2sRjjz3GtGnT8PT0ZNasWbz77rsoikJ0dDQbNmwgLy+vyXHHxcURHR3Ns88+S2ZmJh4eHnz99df1xnICvPPOO4waNYpBgwYxf/58oqKiSElJ4ZtvvuHgwYN1ys6ZM8e2Q8Nf/vKXpv9DCtFEZtXMqZJT7MndQ1pZGs8MeAZXB+tGBlOipuDm4IazzvkKtYiORKtoGRMyps6xouoi9ufvZ1zoOPlAITo9+Q4XJCYm4uTkxKRJkxo8r9FouOWWW0hMTMRoNLJt2zYWLFjA6tWrWbZsGQEBAUycONE2qUer1fKf//yH1157jc8//5yvv/4aX19fRo0aRb9+/Wz1vvvuu9TU1LBo0SL0ej2zZ8/mjTfeuOLkngscHBxYv349v/3tb3n99ddxcnJi+vTpPPHEE/Tv379O2f79+7Nz505eeuklFi5cSHV1NZGRkcyePbtevVOmTMHb2xuLxdJoEi5ES1TUVLA/fz978/ZSaiq1HU8pS6GPTx+g7g42ovOyqBZWnVtFRnkGVbVVTImaYu+QhGhTsvB7I2Th2K6rtraWkJAQpkyZwuLFi+0djujgVFUloyKDPbl7OFp0FLNqnRjnrHNmkP8ghgQMkZnLXdSJ4hN8n/Y9c+Lm4KX3snc4nYY8v9snaeEU4lfWrFlDfn5+nYlIQrSERbWw6uwqkoouTlgLcQ1hWMAw+vj2wUHTujuFiY4lzjuOWK9YNJcsnbcvbx+xXrG4O7rbMTIhWp8knEKct2vXLg4fPsxf/vIXBg4cyNixY+0dkujgtmZuJakoCY2ioZ9vP4YFDJNdZ0QdlyabZ0rOsD5lPc46Z6Z2m0ovH9meVHQeMktdiPMWLlzIo48+SkBAAJ988om9wxEdXFJhEtuytgEwLWoa07tPl2RTXJan3pMglyCqaqv48syXrE1ei9FstHdYQrQKGcPZCBkDIoRoqeyKbBYfX0ytpZbrgq7jhogb7B2S6CBqLbVszdzKL9m/ANYllWZEzyDcLdzOkXUc8vxun6SFUwghWplG0eDm4Ea0ZzSTwhte/UGIhug0OiaFT2Ju3Fw8HD0oNhbz8bGP+SHzB9uEMyE6ImnhbIR8QhJCXI2Kmgo0ikbW0xQtVlVbxTcp39gmnYW5hjEjegY+Tj52jqx9k+d3+yQtnEII0UoKqwttf3d1cJVkU1wVZ50zM2NmMqP7DPRaPRkVGSxKWsSB/AP1dkkTor2ThFMIIVrBnrw9vH/kffbn77d3KKKTifeL59G+jxLpHonJYmJt8lq+OvMVlTWV9g5NiCaThFMIIa6SqqqkGlKxqBZJAkSb8NJ7cV/cfVwfdj0aRcPp0tNU1sr3mug4ZB1OIYS4SoqicHv07fT26U0vb1k7UbQNjaJhVMgount2p9hYjJ+zn+2cRbXUWdNTiPZGvjuFEKKFai21trF0iqLQ26c3iqLYOSrR2YW4htDHp4/tdWpZKh8mfUhOZY4doxLi8iThFEKIFlBVlVVnV7Hy7EpMZpO9wxFdlKqqfJ/2PblVuezO3W3vcIRolCScQgjRAj9l/cSx4mMcLz5OXlWevcMRXZSiKNwVexdDAobIBgOiXZOEUwghmulE8Qm2Zm4F4JbIWwhzk7X+hP24Obhxa7db0Wv1gLXV8+uzX3O06KidIxPiIpk0JIQQzZBXmceqs6sAGBYwjMEBg+0ckRB1HSk8Yvs65XeKmyJvwknrZO+wRBcnLZxCCNFElbWVfHH6C0wWE93cu0kXpmiX+vj0YXTIaBQUDhUcYlHSItLK0uwdluji2mXCaTQaef755wkJCcHZ2ZmEhAQ2btzYpGuXL1/OoEGDcHJywt/fnwceeICCgoI2jlgI0dmZVTMrz6yk2FiMl6MXs2JmodVo7R2WEPVoNVomhk1kbq+5eDl6UWIsYcnxJWzJ2ILZIvuxC/tolwnn3Llzefvtt/nNb37DP//5T7RaLTfffDM///zzZa9buHAhd911Fz4+Prz99ts89NBDLF++nIkTJ1JdXX2NohdCdEYb0zZyznAOB40Dd8XehauDq71DEuKyIt0jeaTvI/T37Y+Kyk9ZP/Hx8Y/rbMEqxLWiqO1sQ9bdu3eTkJDAG2+8wbPPPgtAdXU1ffv2JSAggO3btzd4nclkIjAwkPj4eH744QfbWngbNmxgypQpvPPOOzz55JNNjiMjI4Pw8HDS09MJC5MJAUJ0ZQfyD7A2eS0As2Nm09unt50jEqJ5kgqT2JCygWpzNQ4aB26MuJFB/oM65bqx8vxun9pdC+fKlSvRarXMnz/fdszJyYkHHniAHTt2kJ6e3uB1SUlJlJSUcMcdd9T5Abr11ltxc3Nj+fLlbR67EKLzSS9LZ0PKBgDGhoyVZFN0SH19+/Jov0eJ8oiixlLD+pT1LDuxjKyKLHuHJrqIdpdwHjhwgNjYWDw8POocHzZsGAAHDx5s8Dqj0QiAs7NzvXPOzs4cOHAAi8XS6H2NRiMGg8H2VVZW1sJ3IIToLAwmA1+e+RKzaibOO46xoWPtHZIQLebp6Mm9Pe9lcvhkdIqOlLIUPjr6EUmFSfYOTXQB7S7hzM7OJjg4uN7xC8eyshr+NNajRw8UReGXX36pc/zkyZPk5+dTVVVFcXFxo/d9/fXX8fT0tH317i2tGEJ0dWWmMlRVJcA5gOndp8te1aLD0ygaRgSP4In4J+jn2w9XnSsxnjH2Dkt0Ae1uHc6qqir0en29405OTrbzDfHz82P27NksW7aMXr16MX36dDIzM3nyySdxcHCgpqam0WsBXnjhBX73u9/ZXmdmZkrSKUQXF+oWykN9HkJFtS2qLURn4KX34vbo26msrcRJZ32+qqrKirMriPWMJd4vXj5giVbV7r6bnJ2dbd3jl7owy7yhLvMLPvzwQ26++WaeffZZoqOjGTNmDP369WPKlCkAuLm5NXqtXq/Hw8PD9uXu7n6V70QI0VFV1V78cOql98Jb723HaIRoOy46F9vfTxSf4FjRMb5J/YaKmgo7RiU6o3bXwhkcHExmZma949nZ2QCEhIQ0eq2npydr164lLS2NlJQUIiMjiYyMZMSIEfj7++Pl5dVWYQshOonTJadZeXYlt0XdRi+fXvYOR4hrJsYrhknhk1BQcHe82OhSZiqr81qIlmh3LZwDBgzg1KlTGAyGOsd37dplO38lERERjBkzhsjISEpKSti3bx/XX399W4QrhOhk9ufvx2g2crr0tL1DEeKactA4MDJ4JCOCR9iOpRhS+Puhv/Nt6rd1Wv6FaK52l3DOnDkTs9nMRx99ZDtmNBpZsmQJCQkJhIeHA5CWlsaJEyeuWN8LL7xAbW0tzzzzTJvFLIToPGbGzOTGiBu5OfJme4cihN2dLDmJRbWwM3cn7xx6h505O2W3ItEi7a5LPSEhgVmzZvHCCy+Ql5dHTEwMy5YtIyUlhcWLF9vKzZkzhx9//JFL163/61//SlJSEgkJCeh0OtasWcP333/Pq6++ytChQ+3xdoQQHYCqqrb1e7WKluFBw+0ckRDtww0RNxDtEc136d+RX5XPt2nfsidvD5PDJxPrFdspF44XbaPdJZwAn3zyCS+99BKffvopxcXFxMfHs2HDBsaMGXPZ6/r168fq1atZt24dZrOZ+Ph4vvrqK2bNmnWNIhdCdESbMjZhMpu4MeJG2R9diF+J8YohyjOKA/kH2JqxlcLqQr44/QVRHlFMDp9MsGv9pQyF+LV2t7VleyFbYwnRNRwuOMyqc6sAuCf2HmK8ZE1CIRpTba7m56yf2ZGzA7Nq7Vof6D+QCaET2s3EInl+t0/tsoVTCCGuhayKLNYlrwNgZPBISTaFuAInrRPXh1/P4IDBbE7fTFJREgfyD5BUmMSo4FFcF3QdjlpHe4cp2qF2N2lICCGuhTJTGctPL6dWraWHZw8mhk20d0hCdBjeem9mxszkgV4PEOoaSo2lhq2ZW/k27Vt7hybaKUk4hRBdTq2llq/OfIXBZMDXyZfbo2+XXVWEaIFw93Ae7P0gt0ffjo/eh5HBI23nLnS5CwHSpS6E6GJUVeWb1G9IL09Hr9VzV4+7bFv7CSGaT1EU+vn2o49Pnzof3NYnr8dkNjEpYpLs1iWkhVMI0bXsztvNgfwDKCjMjJ6Jn7OfvUMSolO4NNksNZVyuPAwx4qPyTaZApAWTiFEF3LOcI5vU61jzK4Pv54eXj3sHJEQnZOnoycP93mYM6VnCHO7OFM8vTydENcQtIosP9bVSMIphOgSiqqLWHF6BSoq8b7xjAgaceWLhBAtFugSSKBLoO11sbGYpceX4q335oaIG4jxjJGF47sQ6VIXQnR6RrOR5aeXU2WuIsQ1hClRU+RBJ8Q1VlhdiF6rp6C6gMRTiXx28jNyK3PtHZa4RiThFEJ0evlV+ZQYS3BzcOPOHnfioHGwd0hCdDkxnjE8Gf8kI4JGoFW0nDWcZVHSItYnr6e8ptze4Yk2JjsNNUJ2KhCic8mvysdoNtYZTyaEsI+i6iI2pW/iWPExABw1jowOGc3woOFX/YFQnt/tk4zhFEJ0WmaL2bY3ur+zv52jEUJc4OPkw+wes0ktS+W7tO/Iqshic8Zm9ubt5frw6+nr01eGvXQy0qUuhOiUcipzeOfwOyQbku0dihCiEZHukTzY+0FmdJ+Bh6MHpaZSvj77NYuPLSa9LN3e4YlWJAmnEKJT+inzJ0pNpfyS/QsyckiI9kujaIj3i+eJfk8wIWwCDhoHMioy2JCyAYtqsXd4opVIl7oQolOaHj0dzwxPRgePlq45IToAR60jY0LGMNBvIFszt9bZuajGUoPZYpZdwTowSTiFEJ2Sg8aBGyJusHcYQohmcnd0Z2rU1DrHdubsZEfODm6KvIl+vv3sFJm4GtKl3gXVWGowmo3SzSg6nX15+9iSsUW64YToRCyqhePFx6msrZTnVgcmLZxdzMH8g3yT+g01lhp0ig4XBxdcda64OrjionPB1cEVV50rI4NH2rohK2oq0Gl0OGocpWtStFupZal8k/oNFtVCgHMAfX372jskIUQr0CgaHuj1AElFSXV+rs+UnsHDwYMAlwA7RieaShLOLsKiWtiYvpEdOTtsx2rVWgwmAwaToU5ZJ60To0JG2V5/ffZrzhnOMb37dPr79QcgszyTnbk7G0xWLySxeq1eElRxTZQYS/jq9FdYVAu9fXrTx6ePvUMSQrQirUZre/6AdfewNefWUFFTweCAwYwLHYebg5sdIxRXIglnF1BdW83Ksys5U3oGgLEhY7ku+DoqayqprK2koqbC+mdtBRU1FSjUTRJNZhMALjoX27H8qnyOFB657H21itaWiLroXHBzcGN69+m2JDSzPBOzasbP2a9O3UI0h8ls4svTX1JRW0GgSyC3Rd0mH3SE6ORMZhNhbmGcKD7B3ry9HCk8wuiQ0SQEJtg7NNGIJiWc3bt3b1HliqJw9uzZFl0rWs9/U//LmdIz6DQ6pnefbmv9cdI64YPPFa9/sM+DmMwm22xBgGDXYCaFT7qYrF7yZ0VthXVGoWqmrKaMspoyAJy1znUSgc0Zm+u1nJ4rPcd3ad812NX/6z+dtE51YhJdj6qqrEteR3ZlNi46F+7qcReOWkd7hyWEaGPuju7c2eNOUgwpfJf2HdmV2WxK38TevL3Ea+LtHZ5oQJMSTovF0qIWAxnc2z5cH349RcYiboq8iRDXkBbV8euHeKBLIIEugY2Wr7HU1EtCfz2Rw83BDW+9N+6O7rZjpaZScqtyoerKMSkouDhYW04f6fOItGp1QT9n/0xSURIaRcPsmNl46b3sHZIQ4hrq5tGNh/o8xOHCw2xO30yJsYQfi3+0d1iiAU1KOFNSUto4DNGaVFUlvTydCPcIwPpJ8P5e91/ThMxB44CX3uuyCcCM6Bn1jsV4xnBP7D1U1NZNVitrKuv8aTQbUVGpqKlAVVXbe7OoFnbl7qKHZw/8nP3a6u2JduBUySk2Z2wG4KbIm+jm0c2+AQkh7EKjaBjgN4De3r3ZnrMdi7OsUtEeyRjOTkZVVdanrGd//v46XdUdpfXP3dG9TotnY2ottbaEtMZSYzt+YWLUcffjzI2bK13unVR+VT5fn/0agCEBQxgaMNTOEQkh7M1R68i40HFkqBn2DkU0QBLOTkZRFFx1rigoVNU2oV+6g9JpdHg4euDh6FHn+LDAYSQVJtHft3+9yU+ic6iqreKLU19gNBuJcI/gxogb7R2SEEKIK2hSwvnJJ5+0+AZz5sxp8bWi6S7tVh4fNp6e3j0Jcwuzc1TXnrfem6f6P4VOI5+lOiOLamHl2ZUUGYvwdPRkdsxs+b8WQlw1o9HIn/70Jz799FOKi4uJj4/n1VdfZdKkSVe8dvny5fy///f/OHbsGO7u7kydOpW//e1v+PnVHdaVm5vLH/7wB7755hvKysro1asXL7zwArNmzWpxnY31Xr7++uv84Q9/aMa/QNtT1CbM7NFoNM3ukr2QAJnN5hYHZ08ZGRmEh4eTnp5OWFj7TtyOFx1nd95u7o69GweNg73DaVdMZhMOGocOM6RAXF5meSYfH/8YRVF4oNcDBLsG2zskIUQ705Ln91133cXKlSt5+umn6dGjB0uXLmXPnj1s3bqVUaNGNXrdwoULeeyxx5g4cSIzZswgIyODf/7zn8TExLBr1y6cnKx7vxsMBgYPHkxubi5PPfUUQUFBfPXVV/z0008kJiZy9913N7tOsCackyZNqte4N3DgQPr0aV/rETcp4Vy2bFmLb3Dfffe1+Fp76ggJp6qq/JT1E1sztwIwKXwSI4NH2jmq9uN0yWnWp6xnYtjEOgsGi44tozyDspoyenn3sncoQoh2qLnP7927d5OQkMAbb7zBs88+C0B1dTV9+/YlICCA7du3N3idyWQiMDCQ+Ph4fvjhB1vDxoYNG5gyZQrvvPMOTz75JABvvPEGzz33HJs3b2bChAmAdQWg4cOHk56eTmpqKo6Ojs2qE6wJ5+OPP857773X8n+wa6RJfVEdNWnszExmE2uS13Cs6BgACYEJDA8abueo2pecyhwMJgPfpn5LtGe07ELRgV06ZKQrDhURQrSdlStXotVqmT9/vu2Yk5MTDzzwAC+++CLp6emEh4fXuy4pKYmSkhLuuOOOOr1ot956K25ubixfvtyWHG7btg1/f39bsgnW3uPZs2fz+9//nh9//JFJkyY1q85LVVVVoShKndbP9kam8HZApcZSPj7+MceKjqFRNEzpNoWbIm9Cq2jtHVq7MiJoBEEuQVSZq/hP6n/sHY5ooTJTGYuPLSarIsveoQghOpCysjIMBoPty2g0NljuwIEDxMbG4uHxq0mow4YBcPDgwQavu1Cfs7NzvXPOzs4cOHAAi8ViK9tQORcX6y57+/bta3adFyxduhRXV1ecnZ3p3bs3n3/+eYPx2psknB1Melk6Hx37iJzKHFx0LtwXdx+DAwbbO6x2SavRMi1qGgoKx4qOcbzouL1DEi2wMX0jGRUZbEjZIJtJCCGarHfv3nh6etq+Xn/99QbLZWdnExxcfzz4hWNZWQ1/2O3RoweKovDLL7/UOX7y5Eny8/OpqqqiuLgYgJ49e5KRkUFqamqdstu2bQMgMzOz2XUCjBgxgtdee401a9awcOFCtFotv/nNb1i4cGGj/y720uLpnenp6bz66qts2rSJrKwsTCZTvTKKolBbW3tVAYqLDuYfZH3KesyqmUDnQO6KvUt2VrmCYNdgRgaP5Ofsn/km9Ru6eXTDWVf/k6Nov26KvAmLamF82HiZ/CWEaLJjx44RGhpqe63X6xssV1VV1eC5C93TVVUNLzHo5+fH7NmzWbZsGb169WL69OlkZmby5JNP4uDgQE1Nje3aBx98kEWLFjF79mz+/ve/ExgYyFdffcXq1avr3KM5dQL1EtP777+fwYMH8+KLLzJ37twGW0rtpUUtnOfOnWPQoEEsXrwYNzc3jEYjERERxMbGotPpUFWV+Ph4Ro8e3drxdkkW1cJ3ad+xJnkNZtVMnHcc9/e+X5LNJhobOhZfJ1/Ka8r5Lu07e4cjmslZ58zMmJn4OvnaOxQhRAfi7u6Oh4eH7auxhNPZ2bnB7vbq6mrb+cZ8+OGH3HzzzTz77LNER0czZswY+vXrx5QpUwBwc7POHYiPj+fzzz/n7NmzjBw5kpiYGN555x3+8Y9/1CnXnDob4ujoyBNPPEFJSYmtm769aFHC+corr1BaWsrmzZs5dOgQAPPmzeP48eOkpKQwdepUKioqWLlyZasG2xVV11bz+anP2ZGzA4CxIWOZHTMbvbbhHxxRn4PGgWlR0wA4WHCQs6Vn7RyRuJKzpWfZmbNTutCFEG0uODiY7OzsescvHAsJCWn0Wk9PT9auXUtqaio//vgjKSkpfPrpp2RnZ+Pv74+Xl5et7MyZM8nKymL37t3s2LGD1NRUunfvDkBsbGyL6mzIhQlORUVFTf0nuCZalHBu2rSJm2++mbFjx9qOXXgwBAcH8+WXXwLw4osvtkKIXdva5LWcKT2DTqNjVswsxoeNl+0aWyDCPYJhgdYB4OuT12M0Nzx4XNhfYXUhK86s4Nu0bzlYcNDe4QghOrkBAwZw6tQpDAZDneO7du2ynb+SiIgIxowZQ2RkpK118frrr69XztHRkaFDhzJ8+HAcHR3ZtGkTQINlm1rnr507dw4Af3//K5a94MJ7bUstylwKCgqIi4uzvdbpdFRWVtpe6/V6Jk2axIYNG64+wi5uUvgkglyCuL/X/fTxaV+LuHY0E8Mm4unoSYmphC0ZW+wdjmhAtbma5aeXU22uJtQ1lL6+fe0dkhCik5s5cyZms5mPPvrIdsxoNLJkyRISEhJsLYZpaWmcOHHiivW98MIL1NbW8swzz1y23OnTp1m0aBG33nprnRbOptaZn59fr1xZWRn/+Mc/8PPzY/Dgpk8ovu666+jfvz/vvfceJSUlTb6uOVo0acjPz4+Kioo6r1NSUupWrNO1WdCdmaqqZFdmE+JqbcL3cfLh4T4Py2SJVqDX6pkSNYXPTn7Grtxd9PHpQ4R7hL3DEudZVAurz64mvyofNwc37uhxh+ycJYRocwkJCcyaNYsXXniBvLw8YmJiWLZsGSkpKSxevNhWbs6cOfz44491hvr89a9/JSkpiYSEBHQ6HWvWrOH777/n1VdfZejQoXXu07t3b2bNmkVERATJycksXLgQHx8fFi1aVKdcU+t8//33WbNmDVOmTCEiIoLs7Gw+/vhj0tLS+PTTT3F0dGzyv8E999zD119/zW9/+1uee+45Zs6cyUMPPdS6c3HUFhg7dqx600032V5PmzZN9fT0VM+ePauqqqrm5eWpISEhar9+/VpSfbuQnp6uAmp6evo1u6fZYlbXnlurLti1QD1ZfPKa3berWX12tbpg1wL13UPvqiazyd7hiPM2p29WF+xaoP5595/V9LJr93MnhOhcWvL8rqqqUp999lk1KChI1ev16tChQ9Vvv/22TpmxY8eqv06bNmzYoA4bNkx1d3dXXVxc1OHDh6tfffVVg/e488471fDwcNXR0VENCQlRH3nkETU3N7deuabW+f3336uTJk1Sg4KCVAcHB9XLy0udPHmyunnz5ia/70uVlJSo7733njpw4EBVURRVo9GoPXv2VN988001Pz+/RXVeqklbW/7a3/72N15++WWys7Px8vLihx9+YOLEiTg7O9OrVy/OnDmDwWBg0aJFPPTQQ62XHV9D9tjaUlVVNqRsYH/+fm6MvJGEwIRrct+upqq2in8d/RcJQQkMDRgqY2LbgaNFR1lxZgUAt3W/jQF+A+wbkBCiw+oIW1O3d/v37+df//oXy5cvp7S0FEdHR6ZNm8ZDDz3UpHGkDWlRwmkwGDh+/Di9e/fG3d0dgBUrVvDyyy9z7tw5IiMjefLJJ3n88cdbFFR7YK9v2FpLLZkVmUS6R16ze3ZFZtUsOzO1E9kV2Xx8/GNqLDVcF3QdN0TcYO+QhBAdmCScraeqqooVK1bw4osv2mbtR0ZG8sgjj/Doo4/acsCmaFHC2RVcq2/Y40XHOVx4mJkxMyUBshOT2YRW0aLVyL//tVZRU8FHRz+i1FRKtEc0d/e8W34OhBBXRRLO1lFcXMwnn3zCv//9b44ePYqiKIwcOZLjx49TWFhIUFAQa9eurTdWtTHSl2gnqqryY+aPfHnmS44XH2d//n57h9QlJRuSWZi0kO052+0dSpdTa6nlqzNfUWoqxUfvIx+6hBCiHdi6dSt33303oaGhPPPMM+Tl5fH73/+e06dP89NPP5GRkcH7779PWVkZTz75ZJPrbVHCuWHDBmbMmNHo/qJZWVnMmDGD//73vy2pvtMzmU2sPLuSrZlbAUgITGCQ/yA7R9U1lRpLKTYWcyD/AGaL2d7hdCnfpn1LalkqjhpH7oq9S7YcFUIIO8nNzeWvf/0rPXr04Prrr2f58uUkJCTwxRdfkJGRwd/+9jfbIvV6vZ5HH32U+fPnc/DgwSbfo0XLIr3//vtkZWU1uvp+SEgIycnJvP/++9x0000tuUWnVWosZfnp5WRXZqNRNNwSeQuDA5q+VpZoXf39+mO0GBngN0C61K+h3Mpc9uVZt12bGTMTf+emL1AshBCidYWFhWGxWPD29ubpp59m/vz59OzZ87LX+Pv7YzKZmnyPFiWchw4d4tZbb71smYSEBFn4/VfSy9JZfmY5FTUVuOhcuKPHHTI5yM4URZHVAOwg0CWQe3reQ35VPrFel1/wWAghRNtKSEjgkUceYdasWY3uOf9rf/jDH/jDH/7Q5Hu0KOEsKioiICDgsmX8/PwoKChoSfWd0sH8g6xPWY9ZNRPoHMhdsXfhpfeyd1jiEqqqsj9/P9Ge0fJ/cw1Ee0YT7Rlt7zCEEKLL+/nnn9v8Hi0aw+nv78/JkycvW+bkyZP4+Pi0KKjOxKJa+C7tO9Ykr8GsmonzjuP+3vdLQtMObUzfyPqU9axPWY8s3tD6TGYTK8+spLC60N6hCCGEuERGRgbr1q1rdIfI4uJi1q1bR2ZmZovv0aKEc8yYMaxfv57Dhw83eP7QoUOsW7eOsWPHtjiwzqC6tprPT33OjpwdAIwNGcvsmNnotU1rrhbX1iD/QWgVLWdLz3Ko8JC9w+l0NqZvJKkoic9PfY5Ftdg7HCGEEOe9+uqrzJs3D2fnhidvuri4cP/99/P666+3+B4tSjiff/55AEaNGsWf//xnduzYQVpaGjt27OCVV15h9OjRaDQaXnjhhRYH1hmsPLuSM6Vn0Gl0zIqZxfiw8bKrTTvm5+zHuNBxAHyb+i1lpjL7BtTJjAkZQ6R7JFOjpsrPgRBCtCNbtmxh8uTJjY7f1Ov1TJ48mU2bNrX4Hi36rR8fH09iYiIWi4VXXnmFUaNGERUVxahRo3jllVcA+OKLL4iPj29xYJ3B9eHX4+fkx/297qePTx97hyOaYETwCIJdgqk2V/PfVFnWqzW5O7ozN26uTJQTQoh2JjMzk27dul22TGRk5FV1qbdo0hDA7bffzujRo1m6dCl79uyhtLQULy8vhg0bxn333Ye/f9db5kRVVQqqC2xLvAS5BPFYv8ekNacD0SpapkZN5V/H/sWx4mMcKzpGb5/e9g6rw8qryiO3Mpd+vv0A66oAQggh2hdHR0cMBsNlyxgMhqv6Hd7ihBMgICCA55577mqq6DTMFjPfpH7DwYKDzI2bS4R7BIAkmx1QsGswI4NHsi1rG9+kfkOUR5QsSt4CVbVVLD+1nCJjETWWGtncQAgh2ql+/fqxfv163n777Qa71aurq1m3bh39+vVr8T1aJRsqKioiPT29NarqsBRFoaq2ClVVya3KtXc44iqNCRmDn5MfFTUVfJf2nb3D6XDMqpkVZ1ZQZCzC09GTnl6XX0BYCCGE/cybN4+MjAymTp3KuXPn6pw7e/Ys06ZNIysriwcffLDF92hxwllaWspTTz1FYGAg/v7+REVF2c7t2rWLm2++mX379rU4sI5Go2iY3n06c+LmMDSgaRvZi/bLQePA1KipABwsOMiZ0jN2jqhj2ZS+iXOGczhoHLgr9i5cHVztHZIQQohGzJs3j9tvv52NGzcSFxdHz549mTBhAj179qRXr15s3LiR2bNnM2/evBbfo0UJZ1FREQkJCbz77ruEh4fTq1evOusWxsfH88svv5CYmNiioIxGI88//zwhISE4OzuTkJDAxo0bm3Ttpk2bGD9+PH5+frYxpZ9++mmL4riS40XHWZe8zvbeHbWORHlEXeEq0VFEuEfYdiFan7weo9lo54g6hoMFB21Lgd3W/TaCXILsHJEQQogr+eqrr3jnnXeIiYnh9OnT/PDDD5w+fZrY2Fjef/99vvjii6uqv0UJ58svv8ypU6dYvnw5e/fuZdasWXXOOzs7M3bsWLZs2dKioObOncvbb7/Nb37zG/75z3+i1Wq5+eabr7gS/rp165g8eTImk4mXX36Z1157DWdnZ+bMmcPf//73FsXSEFVV+THzR7488yX78/dzpPBIq9Ut2pcJYRPwcvSi1FTK5vTN9g6n3csoz2B98nrAOixBVmcQQoiOQVEUnnjiCY4dO0ZZWRkZGRmUlZWRlJTEo48+etX1tyjhXLduHbfeeiuzZ89utEy3bt3IyMhodt27d+9m+fLlvP7667zxxhvMnz+fLVu2EBkZecUJSu+99x7BwcFs2bKFJ554gscff5zNmzcTHR3N0qVLmx1LQ0xmEyvPrmRr5lYAhgUOo4+vPFQ7K71Wz5SoKQAcLz5OtbnazhG1XwaTgeWnl2NWzfT06mlb01QIIUTH4urqSkhICK6urTccqkUJZ3Z2Nr17X36pGL1eT0VFRbPrXrlyJVqtlvnz59uOOTk58cADD7Bjx47LTk4yGAx4e3vXmWGl0+nw8/NrdPX85ig1lrLk+BKOFh1Fo2iY0m0KN0fejFbRXnXdov2K9ozmtqjbeKzfYzhpnewdTrtUY6nhy9NfUl5Tjr+zPzOiZ8gKDUIIIWxa9ETw9fW94qz0EydOEBwc3Oy6Dxw4QGxsLB4eHnWODxs2DICDBw82eu24ceM4evQoL730EmfOnOHs2bP85S9/Ye/evVdsHTUajRgMBttXWVndXWbSy9L56NhHZFdm46JzYU7POQwOGNzs9yc6pgH+A2RppEaoqsqG5A1kVmTipHXirh53yfatQgjRwaSnp/Pwww8THR2Ns7MzWq223pdO1/LVNFt05ZgxY1i7di0ZGRmEhYXVO3/s2DG+/fbbFs1mys7ObjBRvXAsKyur0WtfeuklkpOTee2113j11VcB6/6fX3/9NdOmTbvsfV9//XXbLkm/djD/IOtT1mNWzQQ4B3BX7F14672b+pZEJ6KqKocKDxHoHEiwa/M/UHVGO3N3cqjwEAoKs2Jm4ePkY++QhBBCNMO5c+dISEiguLiYPn36YDQaiYyMxMnJiXPnzlFTU0P//v3x8vJq8T1a1ML5v//7v5jNZkaOHEliYiIFBQUAHD9+nMWLFzNhwgT0ej2///3vm113VVVVg4uOOjk52c43Rq/XExsby8yZM/niiy/47LPPGDJkCPfccw87d+687H1feOEFSktLbV/Hjh0D4IfMH1iTvAazaibOO44Hej8gyWYX9nP2z6w5t4a1yWsxW8z2DsfuiqqL+D7tewBuiLiBaM9oO0ckhBCiuV555RVKS0vZvHkzhw4dAqxLJR0/fpyUlBSmTp1KRUUFK1eubPE9WtTC2a9fP7788kvuvfde5syZA1hbfvr27Yuqqri7u/PVV1/Ro0ePZtft7OyM0Vh/+Znq6mrb+cY88cQT7Ny5k/3796PRWHPp2bNn06dPH5566il27drV6LV6vb5Oonthi6f9efvxCPRgTMgYxoWOk3FpXdxA/4Hszt1tnX0tuzTi4+TD7dG3k1qWaltCSgghRMeyadMmbr75ZsaOHWs7dmHJx+DgYL788kv69evHiy++yIcfftiie7S4M37q1KkkJyezbNkydu3aRVFRER4eHiQkJDBv3jz8/PxaVG9wcHCDm8NnZ2cDEBIS0uB1JpOJxYsX89xzz9mSTQAHBwduuukm3nvvPUwmE46Ojs2KR6tomRk9k76+fZt1neic3Bzc+G3/3+KgcbB3KO1GX9++8vMhhBAdWEFBAXFxcbbXOp2OyspK22u9Xs+kSZNYs2ZNi+9xVXup+/j48MwzzzR6/syZM8TExDSrzgEDBrB161YMBkOdiUMXWicHDBjQ4HWFhYXU1tZiNtfv5qypqcFisTR47krujL1THqaijkuTzVpLLRpF06Vavi2qhS0ZWxgWOAwPR48rXyCEEKJd8/Pzq7OykJ+fHykpKXXK6HQ6SkpKWnyPNnlKpqam8sADD9CnT/PXp5w5cyZms5mPPvrIdsxoNLJkyRISEhIIDw8HIC0tjRMnTtjKBAQE4OXlxerVqzGZTLbj5eXlrF+/nri4uBYtjRToEtjsa0TXkFGewYdHP2RP7h57h3JNbcvaxs/ZP7Pk+BJqLbX2DkcIIcRV6tGjB2fPnrW9HjZsGN99951tX/X8/HxWrlxJdHTLx+k3u4Xzxx9/ZN++feh0OkaOHMngwReXBsrOzuaVV15hyZIl1NTUEBoa2uyAEhISmDVrFi+88AJ5eXnExMSwbNkyUlJSWLx4sa3cnDlz+PHHH21jDLRaLc8++yx//OMfGT58OHPmzMFsNrN48WIyMjL47LPPmh2LEJeTVZFFflU+mzI2Eesd22Umk/X17UtSURKjgkeh01xVJ4kQQoh24KabbuLll1+mpKQELy8vnn76adavX098fDy9evXizJkzGAwGXn755ZbfRG0io9Go3nTTTapGo6nz9cwzz6iqqqqLFy9W3dzcVEVR1NDQUPXdd99VjUZjU6uvo6qqSn322WfVoKAgVa/Xq0OHDlW//fbbOmXGjh2rNhR+YmKiOmzYMNXLy0t1dnZWExIS1JUrVzY7hvT0dBVQ09PTW/QeROdntpjVxccWqwt2LVA/Of6JarFY7B3SNVNjrrF3CEII0SB5fjdfaWmpunPnTtVgMNiOffXVV2rv3r1VJycntWfPnup77713VfdQVPV8E+EVvPHGGzz//POEhIRw2223AbB69WpycnL4n//5H9588028vb1ZsGABDz/8cINLG3UkGRkZhIeHk56e3uBao0IAFFQVsChpEbVqLdOipjHQf6C9Q2oT5TXl5FbmyrJHQoh2T57f7VOTE84hQ4aQlpbGyZMn8fa2dh0WFhbSq1cvCgsLGTJkCN98802LZ6e3N/INK5rq5+yf2ZS+CSetE4/3exx3R3d7h9Sqai21fHLyE9LL0pkSNYVB/oPsHZIQQjRKnt/NN2HCBEaOHMlf/vKXNrtHkycNnTp1iunTp9uSTbBucXmhtfODDz7oNMmmEM1xXdB1BLsEU22u5j+p/7F3OK3uv6n/Ja0sDUetI+Fu4fYORwghRCvbtWtXi1byaY4mJ5zl5eUNroF54Vj//v1bLyohOhCtomVa92loFA3Hi49zrOiYvUNqNXvy9rAvfx8At0ffjr+zv50jEu2JaixDLUlDlV23hOjQ4uLiSE1NbdN7NGtZJEWpv7XKhWNXs6G7EB1dkEsQo4JHAfBN6jdU1lZe4Yr2L8WQwn9T/wvAxLCJxHrF2jki0V6o1SVYTn2LuusD1EOJqLsXoRacsndYQogWevLJJ1m7dq1tW++20KwsMSMjg927d9c7BrBnzx4aGg46bNiwqwhPiI5jTMgYjhUdo6C6gO/SvmN69+n2DqnFio3FfHXmKyyqhb4+fW3JtOja1Kpi1LTtkJsEqsV6UOsIRgPIEllCdFjdu3dn3LhxDB8+nIcffpihQ4cSGBjYYEPjmDFjWnSPJk8a0mg0Dd4YrPttNnaurccEtBUZdCxaIr0sncXHrevF/ib2N/Tw6mHniJrPZDax+PhicitzCXYJZl6veThqm7clrOh8VHMN6s73oLbaesCrG0rkSPAIgYKT4N/b9hxQM3aDqkLIQJQO+L2jqiqlhZVUGIz4BLjh7Nbx3kNXJs/v5ruQ411ICRvL6aDleV2TP5Led999LbqBEF1JuHs4wwOHszN3JxtSNvBYv8fQazvOEmGqqrImeQ25lbm46ly5s8edkmx2YWpVMTh5oSgKitYBNXggVOSiRIxE8bzkQR5wcVc5tbYaNeVnMBshfQeEJUDIIBRd+/45UFWVksJK8jMN5GcZMFVf3EXLJ9CN0ChvfIPcL/sgFqKj+tOf/tTm39tNbuHsauQTkmgpk9nEh0c/pK9PX0aHjO5Qu/H8lPUTWzK2oFE0zI2bS4R7hL1DEnagluehpv4CBSdQ+t+N4hVpPX6Z3izbtRYz5B21Xl9dYj2oc0IJGwqhQ1B0Tm0cfdNZLCqlhRXkZRooyCrDZLyYZGp1Glw99BiKqmzH9M4OhER5ExLpjaNTx/m57mrk+d0+yU+MEK3MUevIo30f7VCJJsCJ4hNsydgCwC2Rt0iy2QWpZTnWRLHwkglApelwPuFsSguIotFCUDwE9j2feG6HqiLUlG2QvhvibkXxs98ENItFpaSgwtaSWWO62D2oc9DgF+yBf6gHPv6uaLQaKsuNZCUXk51agrGqhuRjeaQcz8c/xJ2Q7j54+bpIq6cQTdCxnohCdBCXJptmixkVtV0noAaTgVVnVwEwNGAogwMG2zkicS2phkxroll09uJB/14okSNRXFu2FJaiaCCwn7W7Pf+Etf7KQmhhfVfDYlEpzq8gP7OUguyyXyWZWvxD3PEP9cDb3xWNpu7iLS5uemL6BRHVO4D8TAOZ54owFFeRl2kgL9OAi7ue0ChvgiK80Dlor/VbE6LDaL9PQCE6geyKbNYkr6GHZw+uD7/e3uE0yt3BnevDr+dk8UlujLjR3uGIa0hVVdQT66GqGFAgsA9KxAgUF99WqV9RNBDQG/x7QVk2ivPFzUMsJ7+xdreHJ6A4urXK/Wx1WywU553vLs8uo7bmYpLp4KjFL8SDgFAPvPxc0Wiu3EKp1WoIivAiKMKLspIqMpOLyU0vobLMyOnDOZw7mkdguCchUd64ezm36nsRoq1dbmL4pRRFoba29orlGiIJpxBtqNRUSm5lLuU15YwOGd1uJxApisKwwGEMCRiCRmnW8ryig1FVFUrTwCMURaOzPmQiR6GWpKJEXIfi7NMm91UUxTqj/UIcVUWQc9j696z9qMEDUMKHo+hbvjWs2WxNMvMzSynIKaO2xmI756DX4n8+yfT0bVqS2Rh3L2fiBjoT0zeQnLQSMpOLqSwzkpVSTFZKMR4+zoRG+eAf6oFWKz9Pov0bM2ZMgwlnaWkpp0+fpqKigv79++Pl5dXie8ikoUbIoGPRWnbl7KKPbx/cHFq3Bac17MvbR2+f3jjrpEWms1NVFYqTrV3bhgyUHjeghAyybzxF51BTf4ayLOtBRQvB/a2Jp5Nnk+oxmy0U5ZaTn2VtyTTXXkwyHfU6/EOtYzLbcqylqqqUFFSSlVxEfpaBC09VB0ctwZFehET54Owqqz1cK/L8bl2VlZX84Q9/4Ntvv2X79u0t3sZcEs5GyDes6OwOFhxkzbk1+Dr58nCfh2X5o07KmtidtSaalyR2SuRI6zqadmZNhFOsiafBupEIigal7ywUn+4NXmOutVCYW05+VimFOeV1kky90/kkM8QDTztM6DFW15CdUkJWSjHGqhrbcevSSj74BrnJJKM2Js/vtjF06FD69u3LkiVLWnR9k7vUDQYDHh4eLbqJEMLqeNFx/Jz92sWe5IHOgXg6etLXp68km52UWnDamsiV51gPaHQQPNA6ZvIquq5bk6Io4BMF3t2gNM2aGJfnwSXrfKoWMxaLQmFOGXlZBgpzyrCYL7aV6J0dbN3lHj7Odk3o9E4OdIvzJyLWj8KcMrKSiynKK6co1/olSyuJjmr06NF89tlnLb6+yd/tfn5+jB8/nmnTpjFlyhTCw8NbfFPRPljO/QBmk3XQvoMT6C75cnBBcW1Zs7lo2C/Zv7AxfSNhbmHc3+t+u4+VDHYN5uG+D+OkbT/rIorWpWYfsCabGgfr4uvhCSiOrvYOq0GKooBXJIpXJKqxHEXrSG2NmcLsMtxSvqTM6EJqZQ8qLdZE2cnlYpLp7m3fJLMhGo2Cf4i1pbXRpZVC3QmN8rFLS6wQzZWfn095eXmLr29ywjl//nzWr1/Pxo0befLJJxkwYADTp09n6tSpxMfHtzgAcW2o5hooTkHxu2Srxbyj1j2QgXrjKpx9UIY9bHtpOZgIprK6Sen5L0XvjhJ6cRkdtbIQFM3583rrLFVBX5++/Jj5IxnlGezO3c3woOHXPIYaSw35VfmEuFonb7joXK55DKJtqKoF8o+DZ4St9VKJHIXqFogSNhTFoWP8X9fWmCnIrSU/K42i3HLcNIUM9CjC2bEIf4cMKvRRaLqNxDUorMMkaY0urZRhIC/DgKu7npDu3gSFy9JKov2xWCwkJiby5ZdfMmTIkBbX0+wxnAcOHGDNmjWsXbuWw4cPoygKERER3HbbbUybNo0xY8bUW8esI+pMY0DUwjOoZ76H6lKUgfehnJ8pqmbuRTVVWPdGrq2GmuqLf3f2RtNvtq0Oy873bclpPc4+aC5NTvf+GyryL57X6uFCC6qTN5o+0y/GlnsEak0Xz/86mdV0rl++e/L28E3KNzhoHHis32N4672vfFErUVWV1edWc7ToKNOiphHvJx8UOwNVtUDuUdQ06wLrhA5BEzPJ3mE1S43JbO0uzyylKK8C1XLxseTs6khYoIkAy1F0hkvWCfXraV2+yT3IDhFfvbKSKjLPFZGbUWobHqDVaggM9yS0uw9untLz0FKd6fl9rXTv3vB46draWvLy8qipqcHBwYHvvvuOsWPHtugeVzVpKDU1lTVr1rBu3Tq2bduG2WzG29ubW265hWnTpnHjjTfi4tIxPlX/Wmf4hlWNZahnNkHBCesBvQdKz1tRvCObX1dFAdRUXUxIa6tRz/+p6JxRuo2ylbXsXwoVBWCpqV/RlZLTSzm4oBnx1MWyp78HY2ndhNQ2BMAZxTem2e/rWrOoFpadWEZqWSrdPbpzb897r1krzfbs7Xyf/j0KCvfG3Ut3j4Z/wYiOQbWYITfJmmheuoVkxAiU8AS7xtYUNaZaCrLLyMs0UJxXwaWPIhc3R/xDPQkI9cDVQ2/7GVHL81DTfoH8E7ayysA5KB6h1zz+1lJjMpObXkLmuSIqy0224x4+zoR29yEgxAONLK3ULJ3h+X2tdevWrcFnkUajwdvbm6FDh/LEE0/Qp0+fFt+j1WapFxcXs2HDBtauXcv3339PeXk5Tk5OTJgwgdtuu40HH3ywNW5zzXTkb1hVtUDWftTkH61jNFEgbChKt9Eo13ByiGqphVpjnSQVlDozTy3ntloXnP51K6vZeHXJ6ZmNUFOJ4hYEboHgHtRu9nAurC5k4ZGF1Kq1TIuaxkD/gW1+zzMlZ0g8lYiKyk0RN5EQ1P4TEtE4NecwasrP1g9gYB1zHTbMOk5T1z7XegUwGS8kmaWU5Fdw6dPH1UNvG5Pp6nH5n1W1osCaeFYWoQyaezEhNVW02zGqV3JhaaXM5CIKZGmlq9KRn9+dWZssi2Qymdi4cSNr165lw4YN5ObmYjabr3xhO9JRv2FVVUU98iUUJ1sPuIegxN6I4hZo38CaSVUtYK6p8/BUC8+AqRxqLrau2r60+jpd9ZadH1x8GF/g5AVuQSieodaHsx1dmEDkpHXi8X6P4+7YdjOGC6sL+dfRf1Ftrmag30CmRk3tMGPfRMMsZzZB5h5wcEUJHw4hA67ph8nmMBlryc8ykJ9poKSgfpIZEOqJf6gHru7NT5RVSy3K+S1jVbMJdecH4BZoXfLJK6K13sI1Z11aqfj80koXd3WRpZWapqM+vzu7NlmTwdHRkVtuuYVbbrkFgF27drXFbUQDFEUBv56ohiyU7uMgeECHnLSjKBr4VUvNpV3ml/tVq6oqSuyNUJ6DWpYD5bnWLsfzX6qxtE7CaTmzEUXnDO6B4BaMom/7BdqHBw3naNFRsiqy+Cb1G+6IuaNNHiDVtdV8ceoLqs3VhLuFc0u3W+RB1cGo5hrIPgAeYbbx10r4cHDytP58ax3sHGF9xuoaCrKs3eUlBRV1zrl5OhFwfp1MlxYkmZe6kGwCUJpu7RkpSUEtSUH1jLCuM+oV2eG+561LKwUQEetPYU4ZmclFFOdV2JZWcnJxIKSbN8HdvHHUy9JK4uplZGSwf/9+xowZ0+BuQsXFxWzbto3BgwcTGtqyISyy8HsjOtInJLXgFGh0tq5qVVWt3ckdtGupLag1VdbEszzXOs4tuL/1uLkG9ee3qDNP39EVznfFK16RKN7d2iSmnMocPjr6ERbVwqyYWfTxafnYmIZYVAtfnPqC06WncXdwZ36f+W3akipal1prhKwDqBm7oKYSvLujib/D3mE1ylhVQ36WgbxMA6WFlXXOuXs5Wcdkhnjg7NZ2LbFqdQlq2k7IOQTq+cXgPUKtiad39w6XeF7q0qWVLuwLrygK/qEehEZ5y9JKl+hIz+/24pFHHmHFihVkZWWh19f/IGg0GgkNDeXOO+/kvffea9E95KNRB6ZWl6Ke2QiFp0HvAUMfQtE6Wn/pSLJZh+LgbF1Yul7yqKJET7jYElpZCKYKKDpr3Z2lusSWcKqqipryE4pbgDUhdfK6ql/wQS5BjA4ezY9ZP/KflP8Q5R6FSysuXbMlYwunS0+jU3Tc2eNOSTY7CLW2GjL3oWbsPj/uGev3mn9Pa+t9O0oqqitrbN3lpUV1k0wPb2fbjj/Xauyh4uSFEnsjauQI1PSdkHUQDJmoR76yLvPWRvvEXwuXLq2Ul2EgK/nC0kql5GWU4uqhJzTKh8BwT1laSTTbli1bmDx5coPJJoBer2fy5Mls2rSpxfeQhLMDUi1myNyLmrLNOhNc0UBgXy7f0SwaomgdIWyY7V9ONZusu5yU56KW56B4XTKjv6oI0rZfbAvVOaG6BVpbQt2DrF2eTdz/+YLRIaM5VnyM/Kp8vk37lhnRM1rjbXGk8Ag/Z/8MwNSoqYS6ddxZvF2JmrkPNeWni4mmszdKxAgI6NNulgirrjSRl2lNMg3FVXXOefg4W8dkhrjj5GK/MaWK3gMlZjJq+AhrC3FtNcolyaZalm0dz92Okvem0mo1BEd6ERzpVWdppQqDkVOHsjl7NNe6tFKULK0kmi4zM5Pbb7/9smUiIyNZv359i+8hCWcHoxoyUU99CxV51gOe4Sg9bpRdgVqJonW0bqnnGVY/fVcUCB5g3bmlPN+aFJSkQkmqNQmNHInSbQxwvgu/8DS4B4OLb6PjaHUaHdOipvHvY//mZMlJykxlV90SmVWRxdrktQCMCBoh6212JIrG+n3l4osSMRICerWLMdhVFeeTzCwDZb9KMj19XWxjMvXO7Ws8qaJ3Q4meWOeYWlWEun8ZuPpBxAjwj2sX/8Yt4e7lTNygUKL7BtVZWikruZis5GI8fVwI6e4tSyuJK3J0dMRgaGSt7fMMBsNVfUiTMZyNaI9jQNSKfNS9/7a+0DmhdJ8AQfEd8lN6R6dazFBZYG0JLcuG8lzr+ofnJzaphWdQk1ZYC2t04BoA7oEobsHWZZpc/eu0WB3MP0h3z+54OHpcVVyVtZUsSlqEwWQgxjOGu2PvtvsWmqJhqqkCNX0XilsgSqB1/K5qqYXCs+AXa/ef68pyI/mZBvKyDJSXVNc55+XnQkCoJ34h7uid2leSeSVqwSnUExusE4zgfHI/AgJ6d9jE8wLb0krniijI/vXSSt6ERHl3iaWV2uPzu70bM2YMKSkpnD59usFu9erqanr06EFERAS//PJLi+4hLZwdiOLqj+ofBxoHlO4TUBw75qL6nYGi0VoTR7dAlKAGWhAVDXiGW8eFmk1QlgVlWagcsJ7ueSsE9QOsC/T31weA1vmq43LSOjHYfzBHCo9we/Ttkmy2Q6qx3Dq+MPsAWGpRnb1tLZmKRgf+Pe0WW2WZkbzzYzLLS+smmd7+rtYxmcEeODp13EeH4hcLwx+DjL2omXugshD1xHpI/dna4tmOhi80l6IoePu74u3venFppeRijNW1pJ0uIO10gXVppe4++AbK0krionnz5vHAAw8wdepUFi5cWGfnobNnz/LYY4+RlZXFn//85xbfo1ktnD/99BOlpaXceOONODg0/KnWZDLx3Xff4eXlxejRo1scmL21h09IalUx6rkfUHpMQnG0LtWjqpYO/ym8K1FV1Tr2szz34sSk8hyUAfeguPpby2TsQT27CVDA1Q+DowtmV398/HqBW0CL1lessdTgoOlYLU+dnWo0WGdQZx8E9fy6xO7BKJGjwCfabg//CkO1LcmsMBhtxxUFvPxdCQjxwC/Eo1Muv2NdCWAfavpuqK0CrR5l+GPtZpOI1mCxqHWWVrrAycWBwDDrGqhunk6dKvlsD8/vjmjWrFl8/fXX6HQ6oqKiCA0NJTMzk+TkZGpra7njjjv44osvWlx/kxPO48ePEx8fz3333ce///3vy5adP38+S5cu5ciRI/Tsab9P61fDnt+wqsUM6TutW9ZZaiGgD5peU69pDKLtXPiRs+2Okr7T2uJVU9VgeWXQXBT3YGtZQ1aDe9rnVObg5+SHzj/u4kLYZTkXtzxsiE93WzKrludZE+PGeHezPYTVigLrcILGeEVaVwUA1MrCxneHAusY5PMrKqhVxdaEvDEeYbY1UtXqEijLabysewiKk3V4gmo0gCHrMmWDUJy8zpctB0NG42XdAmyTT1RTJZSmNV7W1R/FxddaNnMv6tktFxNNj7DzS/VEXfMHvaqqVBiMtiWMKsvqJpneAW7WJDPYHYdOmGQ2RDWbIGs/KBrbGr2qqkLO4XrrAdu4BaI4e1vLmiqs64A25tLvhZoq69jvxrj42cbkq7XVUJzSeFlnH+uqGRfeQ9G5xss6eVGleJOVXExOaiEeZFNS64dZdcDZ1RH/EA/8Qz1w9+r4yacknC2jqirvv/8+H3zwASdOXNw+tnfv3jz++OM8+uijV1V/k3+b/Otf/0Kn0/Haa69dsexf/vIXPvvsMz788EPefvvtqwqwq1FL0lBPf2tdngfAq5u1BUR0Gr/+Za6ED4ewBDCVYSpJZ1/yN0RrXPEzm1FMlXD+QQWgZu2H3CP16rywj1S1ezDOFx5sOYesD9HG4hj2KDifTzhzkyCj8Q0alCEPWvesB8g/jpr6c+NlB94H5xNOCk+jntvaeNn4uy8u4VV0DvXM942X7TsL9OcX/y9JQz35TeNle90G5xNODJmox9Y0XrbnLRDkZX1RnoN6bHXjZWMmQ+j52c6VBZcvGzUeIs7/37kGWJNNzwjrz7NXxDV9qKuqSnlptW0Jo0v37FY0Cj4BrviHeFqTTMeO2Z18NRStI4QPr3uwOBn11H8avyZmMoQOtr6ouML3QvcJF3+Oq4ovXzZyFLie7x00ll22LGEJKG4TrH83VV6+bMggXHrcYF1aKcYVZfc6LOjINYaRURVF2mkTaacLcHJxsCWfHt7OHT75FE2nKApPPPEETzzxBBUVFZSWluLp6Ymra+sss9jkhHPLli2MGzeOwMArb5EYGBjIuHHj2Lx581UF15WoNZXWB3POYesBBxfr7MqAPvID3wUoigJ6D/SBfRji1wPHCy2Ppso6XeqKiw+qZ3ida6vN1eRX5eOsdcZPd3Fcr+LsXa9sHZeMU1Ocva5Q9pLueSdP6/jUxlw6BEDvfvmyl7Ye6d2uUPaSbk5H18uXdbhkPKzO5QplLxkLrXO6fFnHS3ah0ukvX1Z/cbUBxSsCBs2zLp91jaiqSnnJxe7yqoqLSaZGo+AT6Ib/+ZZMWbexAZZa8Iq8uID8r+lb9r2A1vHyZS9dWk2ju2xZxdnrkrLaK5T1vqRaHaqTF5rqEoL1KQTrU6jQBJFaFkF+ZSDpZwpJP1OI3tnBtr+9h48kn12Jq6trqyWaFzS5S93Dw4P58+fz5ptvNqniZ599lg8//JCysrKrCtBernWTvOXcD5C+w/oieABK1Dhbt6TouiyqBRUVrXL5hKDEWIKrg6uM2+ziVFWlrLjKlmRWV9bYzmk0Cr5BbviHeOIb5CZJZhenqqq1pyBrLxSc5sJua2adO2naEWTmOWM2X0y29U4620L+7X1XI+lSb75ffvmFr7/+mueee46goPofjLOzs3njjTeYPXs2w4cPb6CGK2tyC6fJZMLRsemTFxwdHamtrW1RUF3FpbuGKBHXoZbnokSORPGUHxAB+VX5rEteR4xnDGNDx9Y5p6oqpaZSvPReALY/RdejqiqGoirbmExj1SVJplbBN9CdgFAPfILc0OkkyRRWiqKAdySKd6R117qsA5B9EK25ku5D4+imdaIot5yCzELyc6oxVteScbaIjLNFODrpbN3uXu08+RRN8/bbb3P48OFGh0EGBwezYcMGMjMz+fLLL1t0jyZPd/b39+fcucsMSP6V5ORk/PxkMfKGqJZaLMk/oR5ZfnECiU6PJv4OSTaFTXZFNunl6fyU9RN5VXl1zv2U9RMfHPmAE8UnGrladGaqqlJSWMnpw9ns+O4U+39KJv1MIcaqGrRaDQGhHvQZFs6om+PomxBOQJinJJuiUYqTJ5ru41CGP44SfxeKowtarQb/EA96OvzCyLC9DO5jJCjMHZ2DBlN1LZnniji4LYVf/nuSkwezKM4vx2LpuMt6G41Gnn/+eUJCQnB2diYhIYGNGzc26drly5czaNAgnJyc8Pf354EHHqCgoP7EytzcXObNm0dAQADOzs4MGjSIFStWXFWdAIsXL6ZXr144OTnRo0cP3n333aa/8fP27NnDqFGXny8yZswYdu7c2ey6L2hyC+fQoUPZuHEj5eXluLm5XbZseXk533//PePGjWtxYJ2VWpyMevo7qCq2Hig6B77R9g1KtEv9fPtxpPAIp0tPs+7cOu7vfT8aRcOJ4hNszbROxKmoqbhCLaKzUFWV0sJK244/puqLPUhanQa/IHf8Qz3wCXRDK7vKiBZQtA7gdXEcqFpdCoZMFNWCmyGDno5u9OwzgBKHWHJzaynILqPGaLbtbOTgqMXv/JhPLz9XNJqO0/I5d+5cVq5cydNPP02PHj1YunQpN998M1u3br1sIrZw4UIee+wxJk6cyNtvv01GRgb//Oc/2bt3L7t27cLJyTr23GAwMGrUKHJzc3nqqacICgriq6++Yvbs2SQmJnL33Xc3u06ADz/8kEceeYTbb7+d3/3ud2zbto3f/va3VFZW8vzzzzf5/efl5REaevktkIOCgsjLy7tsmctp8hjOVatWMXPmTObMmcPSpUsvW3bevHl88sknrFy5kunTp7c4OHtq7TEgqqnCutZi3jHrAUc3lJhJ4NdTuiNEo0pNpXxw5AOMZiM3RNxAd4/uLD62GJPFxLCAYdzc7WZ7hyjakMVyIckspSCrDJPxV0lmsDsBoZ54B7hKkinahGosQ80+AFkH4cIHXEUL/nEQlkBxpSv5maXkZ5VRW2O2Xadz0OIfYv0Q5O3vikZz7b4/m/v83r17NwkJCbzxxhs8++yzgHVnnb59+xIQEMD27dsbvM5kMhEYGEh8fDw//PCD7Vm+YcMGpkyZwjvvvMOTTz4JwBtvvMFzzz3H5s2bmTDBurKAxWJh+PDhpKenk5qaiqOjY7PqrKqqIjw8nOHDh7NhwwZbXPfccw9r1qwhPT0db29vmiIoKIjJkyfzySefNFrm3nvv5dtvvyU//zJL3V1Gk78DZsyYwfjx4/n000+ZMGECW7ZswWS6OOuxpqaGzZs3M3HiRD755BMmTJjQYZPN1qSqKmrWAdQ9H11MNkMHowydj+IfJ8mmuCxPR08mhU8CYHPGZr449QUmi4lu7t24IeIGO0cn2oLFolKUV87JA1ls/+9JDv6cQlZyMSZjLToHDUERXsRfF8Gom3vSe0gYfsHukmyKNqPo3dF0G2NdED9uCriHWJf4yjuKUlWIb6AbcYNCGXlzT/qPjCSkmzcOjlpqa8xkp5ZweHsav/znJMf3ZVKQU4bF3MisfztauXIlWq2W+fPn2445OTnxwAMPsGPHDtLTG15jNSkpiZKSEu644446z/Jbb70VNzc3li9fbju2bds2/P39bckmgEajYfbs2eTk5PDjjz82u86tW7dSWFjIY489Vieuxx9/nIqKCr75pvGl435t+PDhrF69utH3mpaWxpo1axgxYkST6/y1Zq3qu3LlSm677TZ++OEHfvzxR3Q6nW2cZmFhITU1NaiqyujRoxsdl9DlqBbr2om11eAWhBJ7o20RbyGaYpD/IJIKk0gpS6HEVIKX3ovZMbPRdtDt90R9FotKcX4F+Zml1m5KU/toKRLiAkWjg8C+KIF9UQ1ZqLlHwO/ixi5KzkG8jAa8ew+iR/9gSgsryMs02Frmc9JKyEkrQeegwTfIOpHNO6Bth3+UlZVhMFzcKEOv1ze4T/iBAweIjY3Fw8OjzvFhw6ybABw8eJDw8PpLThmN1k0TnJ3rryjj7OzMgQMHsFgsaDQajEZjg+VcXKzLsu3bt49JkyY1q84DB6xbJQ8ZMqROucGDB9vO33PPPfXqacjvfvc71q9fz8iRI3n11VeZNGkSwcHBZGdn8/333/PHP/6Rqqoq/ud//qdJ9TWkWQmnt7c3W7Zs4ZNPPmHx4sXs2bOH7OxsABwcHBgxYgQPPPAA9957L1pt130YqmaTdccKjc66J2/sjdadTkIHy7aUotk0ioapUVNZmLQQBYW7etyFy6VrR4oOyWKxUJx3/qGcXbc70sFRe3EWcAcbCyc6P8UjBMUjxPZaVS2oaTvAWGrdNc2vJ16hg/HqH0Zs/2BKCivJv2TscW56KbnppW0+9rh37951Xi9YsICXX365Xrns7GyCg+s3BF04lpXV8E5lPXr0QFEUfvnlF+bNm2c7fvLkSVu3c3FxMb6+vvTs2ZNNmzaRmppKZGSkrey2bdsAyMzMbHad2dnZaLVaAgIC6sTl6OiIr69vo3E3ZMyYMbz99tv8z//8j+2+iqLYJjZrNBr++c9/MmbMmCbX+WvN3rdMq9Uyb9485s2bh9lsprDQuiOOr69vl04yL1ALT6Oe3ogSHA/ndwhSPELB4/KDcYW4HB8nHx7r9xgKiiyB1IGZzdYkMz+zlIKcMmprLnYvOup1+IVYW348fSXJFB2LEj0eNXOfdYvP/OOo+cet23+GDMYroDfefsH0iA+itLDStuOVsbqW3IxScjNK0Wo11nViQz3wDXRHq7v65PPYsWN1JsI01LoJ1rGQDZ27MDmnqqrhbYf9/PyYPXs2y5Yto1evXkyfPp3MzEyefPJJHBwcqKmpsV374IMPsmjRImbPns3f//53AgMD+eqrr1i9enWdezSnzqqqqkaXq3Rycmo07sY89dRTjB8/nkWLFrFnzx5KS0vx8vJi2LBhPPLII/Tt2xej0djov+OVXNVGuQ1l1l2VajSgntkEBSetr3OPQvh11hZOIVqBt75pg79F+2IxWyjMLSc/y9qSaa69JMmU9QxFJ6AoGvDvheLfC7U815p45h2F8lzr9qCGTJSeN6MoCl5+rnj5uRLTL6je+rF5mda/X1g/1j/Uw7pJQQuX9HJ3d6/XTd4QZ2dnW1f2paqrq23nG/Phhx9SVVXFs88+a5twdM899xAdHc2qVatsq/rEx8fz+eef88gjjzBy5EjAOlHnH//4B48++mid1X+aWqezs3OduTS/jv1ycTcmPj6eDz74oN7x/fv38/jjj7N8+XJbQ2NzXVXCKaxdCWTuQ035CcwmQIGwYSjdRkmyKUQXV1tj5uDPKZSVVNuOdaQdW4RoLsUtEKXnzajdx0POIdSs/SjB/W3n1apiqC4Fr0g8fV3w9HUhum9gvR2y8rOsXfAXtmENCPXAN6httmENDg62dWlf6sKQwZCQkHrnLvD09GTt2rWkpaWRkpJCZGQkkZGRjBgxAn9/f7y8vGxlZ86cydSpUzl06BBms5lBgwbxww8/ABAbG9vsOoODgzGbzeTl5dVp/DOZTBQWFl427qYoKSnhs88+Y/HixRw+fBhVVVuUxF7Q5ITzSt3liqLg6elJ//79mTNnDnPnzm1xUB2FWpGPemIDlOdYD7iHoMTehOImrb5CdHXmWguHd6RRVlKNzkFLUISX7EktugzFwRnCh0PYMODi97uasQuyDoCLH4QOtk5E0jri4eOCh48L0X0CKS+ptiWfVRUmCrLLKMgusyafAdZud7/g1ks+BwwYwNatWzEYDHVaRHft2mU7fyURERFEREQA1kRt37593H777fXKOTo6MnToUNvrTZs2AXD99dc3u84Lce3du5ebb764RN7evXuxWCxNirshmzZtYvHixaxduxaj0Yiqqlx33XXMmzePO+64o0V1QjPW4ezWrdtlf0laLBaKioqoqKhAURRmzJjRoWeqN2UdL7WqCHXPv0GjQ+k+3roHujxIhOjyLBYLR3amU5Rbjs5Bw4BR3XD3annLgBCdheXcVsjcB5bzW7Bq9RAUjxI6CMXZp05ZVVUpL622dbtXlV/sPlYUBZ8A1/PJpwcOjheTz+auw7lr1y6GDx9eZx1Oo9FI37598fX1te2uk5aWRmVlJXFxcZet79FHH+Wjjz5i586ddZLLXzt9+jSDBw9m7NixrF+/vtl1VlVVERYWxogRI+pcf++997Jq1SrS09Px8fFprMo60tPTWbJkCUuWLCEtLQ1VVQkNDSUzM5O5c+fy8ccfN6mey2lyC2dKSkqTyh06dIjnnnuOVatWsXTp0k7V0qmqKpTnorhbN7ZXnH2g923gEYLiePndl4QQXYOqqhzfm0lRbjkarUK/6yIl2RTiPE338agR10HOEdSsfdZd9zL3oGbuQQ3shybuVltZRVFw93LG3cuZqF4BVBiMtuSzssxIYW45hbnlKEoW3gFu1vHQwe7NjikhIYFZs2bxwgsvkJeXR0xMDMuWLSMlJYXFixfbys2ZM4cff/yRS9vp/vrXv5KUlERCQgI6nY41a9bw/fff8+qrr9ZLNnv37s2sWbOIiIggOTmZhQsX4uPjw6JFi+qUa2qdzs7O/OUvf+Hxxx9n1qxZ3HDDDWzbto3PPvuM11577YrJZk1NDWvWrGHx4sVs3rwZs9mMq6srv/nNb5gzZw4TJkxAp9Oh07XO6MtWH8PZv39/1q9fT2xsLMuWLes0CadaXYJ6+nsoOgsD7rXtea74xV7hSiFEV6GqKqcOZpOXaUBRFPomhOPlK0tYCXEpRecEYUMhdAgUnUPN2mvd5ll/MVlUVRXMRmtZrMmnm6cTbp5O55PPats2rxUGI0W55RTllnPqIBhVQyN3btwnn3zCSy+9xKeffkpxcTHx8fFs2LDhissA9evXj9WrV7Nu3TrMZjPx8fF89dVXzJo1q17Z/v37s2TJEnJzc22z0V955ZV6k6+bU+djjz2Gg4MDb731FuvWrSM8PJy///3vPPXUU1d8zyEhIRQVFaEoCuPHj2fOnDnMmDEDV1fXK17bEk3uUm+uxx57jC+//LLFs5nszdYkn5ZCqJqNmroNLLXW9TVjJqOEDLR3iEKIduZsUi5ppwsA6DM0jIAwTztHJETHoFYVgVaP4mhNdtTCM6jH1kBQP5SQwSiufo1eW1FmtK3zWV5aTX5BLnfMn9hqW1N3VhqNBo1GwzPPPMNzzz2Hv79/g2UefPBBPvroo6u/31XX0AhfX1/Ky8vbqvprxvn0GtTkrdZk0zMCZfADkmwKIepJPZVvSzZ7DgiWZFOIZlCcfWzJJlgTTiw1kLUfde+/sBz6ArXglHVlmF9xddfTLc6foROiSZgUQ0Ss77UMvcOaO3cuzs7OvP3224SFhTF16lRWrFjR6FJLV6vNEs6cnJw6ywF0VNrqItA5o/S8BaX/3Zf9lCWE6Joyk4s4dzQPgOg+gYRENW2gvhCiYUqPG1Di7wLfHoACJSmoR79G3b0INX1ng4kngIubnrBoSTib4uOPPyY7O5sPP/yQQYMGsWHDBu68804CAwN5+OGH+fnnn1v1fm2ScJaWlrJu3ToGDx7cFtVfUzXesSjD5qMExcsMdCFEPbkZpZw6aF2vLyLWj4hY+VAqxNVSFAXFuxuavjNREh6xLrGkc4LqUuvGKsjzuDW4ubnx4IMPsmPHDo4ePcrTTz+No6Mj//rXvxg7diyKonDy5ElSU1Ov+l6tmnAWFhayYcMGxo8fT0FBAfPnz2/N6u3CGD4WRfatFkI0oDCnjON7MwAIifKme29Zg1eI1qY4eaHpPh5l+BMosTejdBtjawBSa41YDn+Jmn8c1WK2c6QdW69evXjrrbfIzMzkq6++YvLkySiKwrZt24iOjmbixIl8+umnLa6/yZOGmrNPuqqqPPXUU/z9739vcWD21tx1vIQQXUtJQQWHfknFYlEJCPOk95BQ6QUR4hpTM/ehnvne+sLRHSVkIFlqAGFRsfL8bgUZGRksWbKEpUuXkpycjKIomM0tS+ybvCxSeHj4ZX+ZajQaPD096devH/fddx8TJkxoUUBgXXD1T3/6U53lCV599VUmTZp02eu6devWaLNvTEwMp0+fbnFMQghxQVlJFYd3pGGxqPgGutFrsCSbQtiFXyyYyiH7IJjKUFN+wrlGdu1uLWFhYbz00ku89NJLbN68+aoWgG/1hd9bw9y5c1m5ciVPP/00PXr0YOnSpdx8881s3bqVUaNGNXrdP/7xj3oz41NTU/njH//I5MmT2zpsIUQXUFFm5NAvqZhrLXj6utAnIRyNRpJNIexB0bujRI1FjRwJ+cdRM/dRq3rZO6xOaeLEiUycOLHF17fpxwCj0Yher2/WNbt372b58uV1tpiaM2cOffv25bnnnmP79u2NXnvbbbfVO/bqq68C8Jvf/KZZcQghxK9VV5o49EsKNSYzbl5OxF8XgVbbZot9CCGaSNHoILAfSmA/TOlp9g5HNKBNflPu37+fxx9/nJCQkGZfu3LlSrRabZ0JR05OTjzwwAPs2LGD9PT0ZtX3+eefExUVxYgRI5odixBCXGCqruXgz6kYq2pxcXOk/4hIdA5NH9suhLhGFPkQ2B61WgtnSUkJn332GYsXL+bw4cOoqoqzc/P3Dz5w4ACxsbF4eHjUOT5s2DAADh48SHh4eJPrOn78OP/7v/97xbJGoxGj0Wh7XVZW1oyohRCdWY3JzKHtqVRVmNA7O9B/ZDcc9TJOTAghmuqqPwZs2rSJu+66i5CQEJ566ikOHTrE8OHD+eijj8jJyWl2fdnZ2QQHB9c7fuFYVlZWk+tKTEwEmtad/vrrr+Pp6Wn76t27d5PvI4TovMy1Fo7sSKO8tBoHvZYBoyJxcnGwd1hCCNGhtOgjenp6OkuWLGHJkiWkpaWhqiqhoaFkZmYyd+7cq5rFVFVV1eC4TycnJ9v5prBYLCxfvpyBAwfSq1evK5Z/4YUX+N3vfmd7nZmZKUmnEF2cxWIhaXc6pUWV6Bw0DBjZDRe35o1LF0II0YyEs6amhjVr1rB48WI2b96M2WzG1dWV3/zmN8yZM4cJEyag0+nQ6a6um8nZ2blO1/YF1dXVtvNN8eOPP5KZmckzzzzTpPJ6vb5OomswGJp0nRCic1JVlWN7MynKLUejVeh3XSRunk72DksIITqkJmeHISEhFBUVoSgK48ePZ86cOcyYMQNXV9dWDSg4OJjMzMx6x7Ozs21xNEViYiIajYa77rqrVeMTQnR+qqpy8kAW+ZkGFEWhb0IEXr6y45gQQrRUkxPOwsJCNBoNzzzzDM899xz+/v5tEtCAAQPYunUrBoOhzsShXbt22c5fidFo5Ouvv2bcuHEtmikvhOi6VFXl7NFcslNLAOg9NBTfQDf7BiWEEB1ckycNzZ07F2dnZ95++23CwsKYOnUqK1aswGQytWpAM2fOxGw289FHH9mOGY1GlixZQkJCgm2GelpaGidOnGiwjv/85z+UlJTI2ptCiGZLO1VA+ulCAHoODCEg1NPOEQkhRMfX5BbOjz/+mHfeeYfly5ezePFiNmzYwDfffIOHhwezZ8/m3nvvbZWAEhISmDVrFi+88AJ5eXnExMSwbNkyUlJSWLx4sa3cnDlz+PHHH2loK/jExET0ej233357q8QkhOgaMs8Vce5YHgDRfQMJ6eZt54iEEKJzaNaySG5ubjz44IPs2LGDo0eP8vTTT+Po6Mi//vUvxo4di6IonDx5stH9zJvqk08+4emnn+bTTz/lt7/9LTU1NWzYsIExY8Zc8VqDwcA333zDLbfcgqentEwIIZomN72UU4esY8UjY/2I6OFn54iEEKLzUNSGmgiboba21jZ7fePGjVgsFjQaDWPHjmXu3Lmt1vJ5rWVkZBAeHk56ejphYWH2DkcI0YYKcspI2pmGqkJolDc9+gejKLI/uhAdkTy/26erTjgvlZGRwZIlS1i6dCnJyckoioLZbG6t6q8p+YYVomsoLqjg8C+pWCwqgWGe9BoSKsmmEB2YPL/bp1bdcDQsLIyXXnqJs2fPsnHjRu68887WrF4IIVpVWXEVR3akYbGo+Aa5ETdYkk0hhGgLbbYZ8MSJE5k4cWJbVS+EEFeloszIoe2pmGstePm50GdYOBqNJJtCCNEWWrWFUwghOoLqShOHfkmhxmTG3cuJfsMj0Grl16EQQrQV+Q0rhOhSTNW1HPw5FWNVLS5ujsSPiETnoLV3WEII0alJwimE6DJqTGYObU+lqsKEk4sD/Ud1w1HfZiOLhBBCnCcJpxCiSzDXWji8I5Xy0moc9Tr6j4zEydnB3mEJIUSXIAmnEKLTs1gsJO1Kx1BUhc5BQ/+Rkbi46e0dlhBCdBmScAohOjVVVTm2N5OivHI0WoX46yJx83Syd1hCCNGlSMIphOi0VFXl5IEs8jMNKIpCv+ERePq62DssIYTociThFEJ0SqqqcjYpl+zUEgB6Dw3DJ8DNvkEJIUQXJQmnEKJTSj1VQPqZQgDiBoYQEOph54iEEKLrkoRTCNHpZJ4rIvlYHgDRfQMJ7uZt54iEEKJrk4RTCNGp5KaXcOpQNgCRPf2I6OFn54iEEEJIwimE6DQKsss4vi8TgNDuPkT1CrBzREIIIUASzi6pvLSaGmOtvcMQolUVF1RwdHc6qgqB4Z70iA9CURR7hyWEEAKQPd26EFVVST6WR+qpArQ6Dd3i/AmL9kGjkc8domMzFFdxZEcaFouKb5A7cYNCJdkUQoh2RDKNLsJisa5HmHqqALBu83c2KZfdm85SkF2Gqqp2jlCIlqkwGDm8PRVzrQUvPxf6DAtDo5FkUwgh2hNp4ewCzGYLx3ZnUJBTBkDsgGA0GoVzR/OoqjBxZGca3gGu9OgXhKuH7MAiOo6qChOHfkmhxmTG3cuJfsMj0Grlc7QQQrQ3knB2cjUmM0d2plFaWIlGo9B7aBj+Idb1CP1DPGxrFRbnVbBny1lConyI6uWPg6N8a4j2zVhdw6FfUjFW1+Lirid+RCQ6B629wxJCCNEAySo6MWOV9YFcUWZE56Ch3/AIvPxcbed1Dlqi+wQSEunNmaQcCrLLyDxXRG56KVG9/Qnp5iNdk6JdqjGZOfRLKlUVJpxcHBgwMhJHvfw6E0KI9kp+Q3dSFWVGa+tPVQ2OTjr6j4jEzbPh7nJnN0f6DY+gKK+cM0dyqDAYOX0oh6xzxcTEB8l2gKJdMddaOLwjlQqDEUe9jv4jI9E7O9g7LCGEEJchg506odKiSvb/mIyxqgZnN0cGjYlqNNm8lE+AG0PGRxPbPxidg9aWtB7ZmUZVuekaRC7E5VnMFo7sSsNQVIXOQUP/kZG4uOntHZYQQogrkBbOTqYwp4yk3elYzCru3s7EXxfRrK5GjUYhtLsPAWEepJzIJ/NcEQXZZRTmlhMe7UtkTz8ZJyfsQlVVju3NpDivAo1WIf66xlvthRBCtC+ScHYiOWklnNifiapaWyv7JISh07UsOXRw1NEjPpiQbt6cPpJDcV4FaacLyEkroXufAIIivGSdQ3HNqKp1Wa/8LAOKRqHf8Ag8fV3sHZYQQogmki71TiLtdAHH92Xadlnpd114i5PNS7l6ONF/RCT9hkfg7OqIyVjLif1Z7PvhHCWFla0QuRCXp6oqZ5NyyU4tAaDPkDAZVyyEEB2MtHB2cBcexulnCgEIj/Elum9gq7Y+KoqCX7A7PoGuZJwtIuVEPmUl1Rz4KZmAME+i+wTi5CKTNkTbuLB0F0DcoBD8Qz3sHJEQQojmkoSzA7NYVE7szyQ3vRSA6L6BRPTwa7P7aTQaInr4ERThxbljeWSnFJOXUUpBtoGIHn5E9PBDq5NGc9F6Ms4VknwsD4CYfoEER3rbOSIhhBAtIQlnB1Vba+borgyK8spRFIgbFEpQhNc1ubejXkfcwBBCo7w5fTiH0sJKUk7kk51aQnTfQAJCPWR8p7hqOeklnD6UA0BkT3/CY9ruw5QQQoi2Jc1RHZDJWMvBn1MpyitHo7VOoLhWyeal3L2cGTi6G32GhaF3dsBYVcOxPRkc+CmFsuKqax6P6DwKsss4sS8TgNDu1t2vhBBCdFzSwtnBVFeaOPRLKpXlJnQOWuJHRODpY7/ZuoqiEBDqiW+QO+mnC0k9lU9pUSV7fzhHcKQXUb0D0DvJ+E7RdMX5FRzdnW6bANcjPkhazIUQooOThLMDKS+t5tD2VEzVteidHeg/IhJXj/ax6LVWq6FbnD9BkV6cO5pLbnop2akl5GUarN2h0T5otNKgLi7PUFzFkZ1pWCwqfkHuxA0KlWRTCCE6AckAOoiSggoObEvGVF2Lq7ueQWOj2k2yeSknZwd6Dwlj0Jgo3L2dMddaOHc0l92bz5KfZUBVVXuHKNqpCkM1h7enYq614OXnSu9hYWg0kmwKIURnIAlnB5CfZeDQL6nU1ljw9HFh4JgonNr53tGevi4MHhtF3KBQHPU6qipMJO1K59AvqVQYqu0dnmhnqiqsQ0VqTGbcvZ3pNzwcrbSICyFEpyG/0du5rOQiknal27oY+4+KxMGxY2wtqSgKwZFeJEyKISLWD0WjUJxfwZ4tZzl1KJsaU629QxTtgLG6hkO/pGKsrsXFXU//6yJk+1QhhOhkZAxnO6WqKqknC0g+bl2DMDjSi9gBIR2yi1HnoCW6TyAh3bw5m5RDflYZmeeKyE0vJaqXPyFRPh3yfYmrV2Myc+iXVKoqTDi5ODBgZCQOevm1JIQQnY38Zm+HVFXl9OEcMs8VARAZ60dU74AOP3nC2dWRvgkRFOdXcPpwNhUGI6cP55CVXExMfJBsV9jFmGstHN6RSoXBiKNex4CR3dC386EiQgghWka61NsZi9nC0T0ZtmSzR3wQ3fu07laV9ubt78qQ8dHEDgjGwVFLRZmRQ7+kcmRHGpXlRnuHJ64Bi9nCkV1pGIqq0Dlo6T8yEmc3R3uHJYQQoo1IC2c7Ultj5siudEryK1AUhV5DQgkM87R3WG1Co1EIjfIhINSTlBN5ZJ4roiCnjMLccsJifOjW01/G8XVSFovKsb2ZFOdVoNVqiB8RgZunk73DEkII0YYk4WwnjNU1HN6eRnlpNVqdhr4J4V2ii9nBUUuP+GBConw4cySHotxy0k8XkpNWQvfegQRHenWq1t2uTlVVTh3MIj/LgKJR6Ds83K4bFwghhLg2pEu9HagqN7H/p2TKS6tx0GsZOKpbl0g2L+Xqrqf/iEjir4vA2c2RGqOZkwey2PvDOUoKKuwdnmgFqqpyNimX7NQSAPoMCety3+dCCNFVSQunnZWVVHFoeyo1RjNOrtbdg1zc2t+C7teKb5A73gGuZJ4rIuVEPuUl1RzYlkJAqAfRfQNxcpFxfh1V6skC0s8UAhA3KAT/UA87RySE+P/t3XlYVGX/P/D3LDAM6wDDviuLIiC4AKKBluGSW4poai7pU2Yu9Wj61fKrmWjPUy5lhXrllqmElOZSVpgiES4omrjhwr7vO8Ms9+8Pv8yvEVxYhgP4eV3XXF7cc58z7zMs8/Gcc983IR2FCk4OlRZWI+VCFpQKFQxN9OAT5EjrjgPg8/lwcJXCykGCtJuFyE0vQ2FOJYrzquDoLoWjmxQCIZ2c70qy75eop/hy9baGjZMpx4kIIYR0JCo4OVKYXYGbSTlgjEEiNYB3oAMNknmErkgIDz9b2LqY4t71fJQX1yL9dhHyMsrQs481LO2N6f7OLiA/sxx3/84HADj3soCDqznHiQghhHQ0Ok3Egez7JbhxKRuMMVjYGqNvEK2s8iRGEjF8hzijj78D9PR1IKtT4GZSNq6cS0NlWR3X8cgTFOdV4vaVHACAXQ8zOPey4DgRIYQ0JZPJsGLFCtja2kIsFiMgIAC///77M20bFRWFfv36QU9PDxYWFpg7dy6Ki4ub9CsoKMCcOXNgaWkJsViMfv364fDhw83uMzY2FsOGDYNUKoVEIoG/vz/279/fpB+Px2v28cknn7TsDegAdIazAzHGkHarEBl3Hv4g2rmYwq2vDZ2lewY8Hg+WdsYwtzZE1r0SZNwpQmVpHS6ffQBrRwl69LGk2xE6mbKiGty4mA3GAGsHE7j5WNPPOiGkU5o9ezZiYmLw7rvvws3NDXv37sXo0aNx5swZDBky5LHbRUZGYsGCBXjppZewefNmZGdn4/PPP0dSUhIuXLgAPb2HU75VVlZiyJAhKCgowJIlS2BtbY3o6GiEh4fjwIEDmDZtmnqfx44dw4QJEzBo0CCsXbsWPB4P0dHRmDlzJoqLi/Hee+9pZHj55Zcxc+ZMjTY/P792fHfaB48xxrgO0RllZ2fDwcEBWVlZsLe3b/P+VKqH08E0jtB16W0BJw8L+gBuJVmdHPdvFKAgqwIAIBDy4eQhhUNPc/AFdOKea5Vldbj6ZzqUChWkNkbo4+9Ay5cSQjpESz+/L168iICAAHz66adYtmwZAKC+vh5eXl6wtLTEX3/91ex2DQ0NsLKygo+PD86ePav+PD9x4gTGjh2LL774AosWLQIAfPrpp1i+fDlOnz6NF198EQCgUqkQGBiIrKwsZGRkQFf34aDY0NBQ3LhxAw8ePIBI9HAQsUKhQK9evWBgYIBr166pM/B4PLzzzjv48ssvW/ludRz6ZO4ASqUKNy5mqYtND18bOPfq+ktVckkk1oHnAHv0C3GBkakYSoUKD24U4sLpeyjJr+I63nOtprIe1xIyoFSoILEwgOdAeyo2CSGdVkxMDAQCAd588011m56eHubOnYvExERkZWU1u11KSgrKy8sxZcoUjc/zMWPGwNDQEFFRUeq2+Ph4WFhYqItN4OEA2fDwcOTn5yMuLk7dXllZCVNTU3WxCQBCoRBSqRRisbjZLHV1daivr2/5wXcgKji1TN6gxLWEDBTnVYHP58ErwAG2LmZcx+o2TMz00T/EBb3720FXT4j6Gjn+TsxE+p0i0Mn7jldX04CrCRlQyJUwMhXDO8ABAjrjTAjhQFVVFSorK9UPmaz5pZOTk5Ph7u4OY2PNqdr8/f0BAFevXm12u8b9NVcEisViJCcnQ6VSqfs2109f/+HCF5cvX1a3DR06FDdu3MDq1atx79493L9/Hx9//DGSkpKwfPnyJvvYu3cvDAwMIBaL4enpiYMHDzabl2v0SaBFsjo5kuPTUFFSC6EOH30HO8HCluYebG88Hg/WjhIEvOwKO5eH0+2k3SzEzaRsKBUqjtM9P2T1clxLyEBDveLhRP6DaDAcIYQ7np6eMDExUT82btzYbL+8vDzY2Ng0aW9sy83NbXY7Nzc38Hg8JCQkaLTfuXMHRUVFqKurQ1lZGQDAw8MD2dnZyMjI0OgbHx8PAMjJyVG3rV69GuHh4YiIiICbmxtcXV3xySef4IcffsDEiRM1tg8KCkJERASOHj2KyMhICAQCTJ8+HZGRkU96azhBg4a0pKZKhmsJGZDVyaGrJ0TfICdaL1rLhEIB3H1tYWiih9RreSjMrkRddQO8Ax0hEtOAIm2SNyhwLSEDdTUN0NPXQd/BTtAR0Z8XQgh3bt68CTs7O/XX/7xE/U91dXXNPtc44KeurvnZUKRSKcLDw7Fv3z707t0br776KnJycrBo0SLo6OhALpert503bx62b9+O8PBwbNmyBVZWVoiOjsaRI0eavIZIJIK7uzvCwsIwceJEKJVK7Ny5EzNmzMDvv/+OwMBAdd9Hi9033ngD/fv3x6pVqzB79uzHXoLnAp3h1IKK0lokn0uDrE4OsaEu+gW7ULHZgWxdzOA7xBk6ugJUldcj6cwDVJTWch2r21IolPj7r0zUVMqgKxLCd7AzFfiEEM4ZGRnB2NhY/XhcwSkWi5u93N54T+STirYdO3Zg9OjRWLZsGXr27Ing4GB4e3tj7NixAABDw4fL9/r4+ODgwYO4f/8+Bg8eDFdXV3zxxRfYunWrRj8AWLhwIY4fP46oqChMnToV06dPR2xsLGxsbLBkyZInHrOuri4WLlyI8vJyjcv0nQEVnO2sJL8KV/9Mh7zh4T1s/YJdIDag5Rg7mkRqgP5De8DAWIQGmQJX49ORn1nOdaxuR6VUIeVCFirL6iDUEaDvECeIDennnRDSddjY2CAvL69Je2Obra3tY7c1MTHBTz/9hIyMDMTFxSE9PR379+9HXl4eLCwsIJFI1H3DwsKQm5uLixcvIjExERkZGejRowcAwN3dHcDDke+7du3CK6+8Aj7//5doOjo6GDVqFJKSktDQ0PDE43FwcAAAlJaWPtsb0EE6ZcHZlglYAeD777/HoEGDYGBgAIlEgqCgIPzxxx9aTPxQfmY5rp/PhErJYGZpCN8hTtCly4qcERs8PLsstTGCSsVw63IO7qXk02CidqJSMdxMykZZYQ0EAj58ghxhaExn8gkhXYuvry9SU1NRWVmp0X7hwgX180/j6OiI4OBgODk5qc8uDh8+vEk/XV1dDBw4EIGBgdDV1UVsbCwAqPuWlJRAoVBAqVQ22VYul0OlUjX73D89ePAAAGBh0bkW2uiUBefs2bOxefNmTJ8+HZ9//jkEAgFGjx6NP//886nbrl27Fq+99hocHBywefNmrF+/Hj4+Pho35GpD5t1i3LqcA8YAKwcTeA9ygFBIAya4JtQRwCvAAU4eUgBA1t0SXE/MhEL+5F9Y8mSMMdxJzkVRbhV4fB68Ah1gYqbPdSxCCGmxsLAw9X2SjWQyGfbs2YOAgAD1GcPMzEzcvn37qftbuXIlFApFkwnaH3X37l1s374dY8aMUZ/htLS0hEQiwZEjRzTOZFZXV+P48ePo1auX+hJ/UVFRk31WVVVh69atkEql6N+//9MPvgN1utNvFy9eRFRUlMYErDNnzoSXlxeWL1/+2AlYAeD8+fNYt24dNm3a9NRvdHthjOF+SgGy7pUAABxczdHTy4rm2OxEeDweenhawcBYD7cv56CkoBqX49LgHegAfcPm7+khj8cYw73rBcjPLAePB/QZaA8zS8Onb0gIIZ1QQEAAJk+ejJUrV6KwsBCurq7Yt28f0tPTsWvXLnW/mTNnIi4uTuMq2SeffIKUlBQEBARAKBTi6NGj+O2337B+/XoMHDhQ43U8PT0xefJkODo6Ii0tDZGRkTAzM8P27dvVfQQCAZYtW4YPP/wQgYGBmDlzJpRKJXbt2oXs7Gx899136r5fffUVjh49irFjx8LR0RF5eXnYvXs3MjMzsX//fvVE8p0G62Tef/99JhAIWEVFhUb7hg0bGACWmZn52G2nTJnCbGxsmFKpZCqVilVVVbU6R1ZWFgPAsrKyHttHqVSxG5ey2B8/prA/fkxhGalFrX490jEqSmtZws+32R8/prBzx2+x0sLW/4w8r9JuFah/5vMyyriOQwghGp7l8/tRdXV1bNmyZcza2pqJRCI2cOBAdurUKY0+ISEh7NGy6cSJE8zf358ZGRkxfX19FhgYyKKjo5t9jalTpzIHBwemq6vLbG1t2fz581lBQUGzfQ8cOMD8/f2ZRCJhYrGYBQQEsJiYGI0+v/32G3v55ZeZtbU109HRYRKJhIWGhrLTp08/83F3pE63tOXLL7+MnJwc3Lx5U6P99OnTGD58OI4dO6Ye/fUoCwsLBAUFYdiwYVi/fj1KSkpgbW2NDz74AAsXLmxRjqctjaVUqJByMQulBdXg8YBe/exg7Shp0WsQbsjq5bh+PgtVZXXg8QBXH2vYuZjRWelnkH2/BHf/zgcAuPlYw76nOceJCCFEU3svTU3aR6e7pN7aCVjLyspQXFyMhIQE/PHHH1izZg0cHR2xZ88e9ZxYb7311mNfVyaTaUyLUFX1+OURG2QK/J2YiaqyOvAFPHj5O8Dc2uhZD5FwTKSnA78XnHEnORcFWRW4ey0fNRUyuPW1oSUYnyA/s1xdbDr3sqBikxBCyDPrdIOGWjsBa3V1NYCHI7y++eYbLFu2DOHh4Th58iQ8PT2xfv36J77uxo0bNVYk8PT0bLZffW0Dks+loer/poHxHeJMxWYXJBDw0bu/HXr0sQIA5KaX4VpCOhpkCo6TdU5FuZW4feXhwDv7nmZw7tW5Rj8SQgjp3DpdwdnaCVgb23V0dBAWFqZu5/P5mDJlCrKzs5GZmfnY1125ciUqKirUj0cv6QNAdWU9Lseloba6ASKxDvoFu9DI3C6Mx+PByV0K70GOEAj5KC+uxeWzD1BdWc91tE6lrKgGNy9lgzHA2lECV29ruv2AEEJIi3S6grO1E7CamZlBT08P5ubmEAg0pyOytLQEAPWaps0RiUQaKxIYGWmetSwvrkHyuTT1OtH9QlxgYEwjnLsDqbUR+oc8nKC/vlaOK3FpKMqtfPqGz4HK0tqHc8uqGKQ2RvDws6VikxBCSIt1uoKztROw8vl8+Pr6oqioqMks/I33fbZ2EtSi3EpcS8iAQq6CiZk+/IJdoEdL93UrBsZ66B/iAonU4OGAsAtZyLhT9FxPEl9TWY9rf2VCqVDB1MIAngPt6R5XQgghrdLpCs62TMA6ZcoUKJVK7Nu3T91WX1+PAwcOwNPT84nLUz1OQVY5Ui5kPTzDY22EvkOcoKNLE7p3RzoiIfoOdoJdDzMAwIObhbiZlAOlUsVxso5XV9OAqwkZUMiVMDYVwyvQAQJBp/tzQQghpIvodKPU2zIB61tvvYVvvvkG77zzDlJTU+Ho6Ij9+/cjIyMDx48fb1We+ymFsJBawcZJAndfWzrD083x+Ty497WBgbEId6/loTC7AnXVMngHOkL0nJzVltXLcTUh/eHtI8Yi+AQ50qpZhBBC2qTTFZwA8O2332L16tXYv38/ysrK4OPjgxMnTiA4OPiJ24nFYvzxxx9Yvnw5du/ejZqaGvj6+uLkyZMYMWJEq/M4eUjh0tuS7l17jti5mEHfUIQbF7NQVV6PpLMP4B3gAONuPkhM3qDAtYQM1NfIoWegg76DnaCj2yn/TBBCCOlCOt3E751F48SxF+P/xsAh3lzHIRypq2nA9fOZqKmUgc/nwaOfLawdJFzH0gqFQolrf2agsqwOunpC9At+OJCKEEK6Epr4vXOim7KewsbZlOsIhENiA130C3aB1NoIKhXDraQc3E8p6HaDiVRKFVLOZ6GycX7ZwU5UbBJCCGk3VHAS8hRCHQG8Ah3g6C4FAGTeLcb185lQyJUcJ2sfKhXDjUvZKCuqgUDIR98gRxgY63EdixBCSDdCBSchz4DH46FnHyt4DrADn89DSX41Lseloa6m4ekbd2KMMdxJzkVxXhX4fB68A7v/faqEEEI6HhWchLSAlYMEfsEu0NUTorZKhqQzD1BWVMN1rFZhjOHe9XzkZ5aDxwM8B9rD1MKQ61iEEEK6ISo4CWkhY1MxBgztASNTMRRyJa4lpCPnQSnXsVos/U4Rsu8/zN2rnx0sbI05TkQIIaS7ooKTkFYQiXXg94IzrOxNwBiQei0Pd67mQqXqGoOJsu+XIP1WEQDAzcca1o4SbgMRQgjp1qjgJKSVBAI+eg+wQ48+lgCA3LQyXEtIh1ym4DjZk+VnluPu3/kAAOfeFrDvac5xIkIIId0dFZyEtAGPx4OTuwW8Ax0hEPJRXlyLpLMPUFNZz3W0ZhXlVuL2lRwAgH1PMzh7WHCciBBCyPOACk5C2oHUxgj9Q1ygZ6CD+lo5LseloTiviutYGsqKqnHjUjYYA6wdJXD1tqbVswghhHQIKjgJaScGxnoYENIDEqk+lAoVrp/PRMadok4xSXxlaS2uJ2aBqRgsbI3g4WdLxSYhhJAOQwUnIe1IRyRE38HOsHV5uELVg5uFuJWUA6VSxVmm6sp6XPsrE0qlCqYWBvAcYA8+n4pNQgghHYcKTkLaGZ/Pg4evLdz72oDHAwqyK5Acnw5ZnbzDs9TVNOBaQgYUciWMTcXwCnQAX0C/9oQQQjoWffIQoiV2PczQd7AzhDoCVJXVIensA1SW1XXY68vq5biakI6GegUMjEXwCXKEUCjosNcnhBBCGlHBSYgWmVoYYMDQHtA3EqGhXoHkc2koyCrX+uvKGxS4lpCB+ho5xAa66DvYCTq6Qq2/LiGEENIcKjgJ0TKxoS76h7jA3NoQKhXDzaQc3L9RoLXBRAqFEn//lYmaShl09YToO9gJIj0drbwWIYQQ8iyo4CSkAwh1BPAOdISjmxQAkJlajOvns6CQK9v1dZRKFVLOZ6GyrA5CHQF8BztBbKDbrq9BCCGEtBQVnIR0EB6Ph55eVug9wA58Pg8l+VW4EpeGupqGdtm/SsVw81I2yopqIBDy0XewEwyM9dpl34QQQkhbUMFJSAezdpDA7wVn6OoJUVMlw+WzD1BWVNOmfTLGcCc5F8V5VeDzefAOdISxqbidEhNCCCFtQwUnIRwwNtPHgKE9YCTRg7xBiWsJ6chJK23VvhhjuHc9H/mZ5eDxgD7+9jC1MGjnxIQQQkjrUcFJCEdEYh34BbvA0t4EjAGpV/OQejUXKlXLBhOl3y5C9v2HxWqvfnaQ2hhrIy4hhBDSalRwEsIhgYAPzwF26OFpCQDISSvDtYQMyGWKZ9o+614J0m8XAQDcfKxh7SjRVlRCCCGk1ajgJIRjPB4PTh4W8A50gEDIR3lxDZLiHqCmsv6J2+VllOPe9XwAgEtvC9j3NO+IuIQQQkiLUcFJSCchtTFGv2AX6OnroL5GjstxaSjOq2q2b1FuJe4k5wAA7Huaw8nDoiOjEkIIIS1CBSchnYihiR76D+0BiVQfSoUK189nIiO1SGOS+NLCaty4lA3GAGtHCVy9rcDj8ThMTQghhDwZFZyEdDK6ooerA9k6mwIAHtwoxK3LOVAqVagorUXK+SwwFYOFrRE8/Gyp2CSEENLp0eLKhHRCfD4f7r42MDAR4d7f+SjIqkBtlQx1NXIolSqYWhrAc4A9+HwqNgkhhHR+VHAS0knxeDzY9zCHvqEINy5mo6r84SAiYzMxvAMcwRfQBQpCCCFdA31iEdLJmVkaYsDQHjA2E0Mi1YfPICcIhPSrSwghpOugM5yEdAFiQ130D+nBdQxCCCGkVeg0CSGEEEII0SoqOAkhhBBCiFZRwUkIIYQQQrSKCk5CCCGEEKJVVHASQgghhBCtooKTEEIIIYRoFRWchBBCCCFEq6jgJIQQQgghWkUFJyGEEEII0SoqOAkhhBBCiFZRwUkIIYQQQrSKCk5CCCGEEKJVVHASQgghhBCtooKTEEIIIYRoFRWchBBCCCFEq6jgJIQQQgghWkUFJyGEEEII0SoqOAkhhBBCiFZRwUkIIYQQQrSKCk5CCCGEEKJVVHASQgghhBCtooKTEEIIIYRoFRWchBBCCCFEq6jgJIQQQgghWkUFJyGEEEII0apOWXDKZDKsWLECtra2EIvFCAgIwO+///7U7dauXQsej9fkoaen1wGpCSGEENIVtbbuAICoqCj069cPenp6sLCwwNy5c1FcXNykX0FBAebMmQNLS0uIxWL069cPhw8fbnafsbGxGDZsGKRSKSQSCfz9/bF///5m++7atQu9e/eGnp4e3NzcsG3btmc/8A4k5DpAc2bPno2YmBi8++67cHNzw969ezF69GicOXMGQ4YMeer2kZGRMDQ0VH8tEAi0GZcQQgghXVhr647IyEgsWLAAL730EjZv3ozs7Gx8/vnnSEpKwoULF9QnvCorKzFkyBAUFBRgyZIlsLa2RnR0NMLDw3HgwAFMmzZNvc9jx45hwoQJGDRokPpEWnR0NGbOnIni4mK899576r47duzA/PnzMWnSJPz73/9GfHw8Fi9ejNraWqxYsUJ7b1hrsE7mwoULDAD79NNP1W11dXWsZ8+ebNCgQU/cds2aNQwAKyoqanOOrKwsBoBlZWW1eV+EEEII6Rgt/fxubd0hk8mYRCJhwcHBTKVSqduPHz/OALAvvvhC3fbf//6XAWCnT59WtymVSjZw4EBmbW3NZDKZuv3ll19mtra2rL6+Xt0ml8tZz549mY+Pj7qttraWmZubs1deeUUj1/Tp05mBgQErLS19puPvKJ3uknpMTAwEAgHefPNNdZuenh7mzp2LxMREZGVlPXUfjDFUVlaCMabNqIQQQgjp4lpbd6SkpKC8vBxTpkwBj8dTt48ZMwaGhoaIiopSt8XHx8PCwgIvvviiuo3P5yM8PBz5+fmIi4tTt1dWVsLU1BQikUjdJhQKIZVKIRaL1W1nzpxBSUkJFixYoJHrnXfeQU1NDU6ePNmKd0N7Ot0l9eTkZLi7u8PY2Fij3d/fHwBw9epVODg4PHEfPXr0QHV1NQwMDDBhwgRs2rQJVlZWT9xGJpNBJpOpv66oqAAA5OXlteYwCCGEEMKBxs/tiooKjVpCJBJpFHGNWlt3NNYM/ywCG4nFYiQnJ0OlUoHP50MmkzXbT19fHwBw+fJlvPzyywCAoUOH4j//+Q9Wr16NWbNmgcfj4eDBg0hKSkJ0dLRGbgAYMGCAxj779+8PPp+P5ORkzJgxo8lrcqXTFZx5eXmwsbFp0t7Ylpub+9htTU1NsXDhQgwaNAgikQjx8fH46quvcPHiRSQlJTX5YfqnjRs34qOPPmrS3vgDRwghhJCuw8vLS+PrNWvWYO3atU36tbbucHNzA4/HQ0JCAubMmaNuv3PnDoqKigAAZWVlMDc3h4eHB2JjY5GRkQEnJyd13/j4eABATk6Oum316tVIS0tDREQE1q9fD+BhYfrDDz9g/PjxGrkFAgEsLS01cunq6sLc3PyJ9RIXOl3BWVdX1+z/QBpvvK2rq3vstkuWLNH4etKkSfD398f06dPx9ddf43/+538eu+3KlSvx73//W/11aWkpXFxckJKSAhMTk5YeRqdWVVUFT09P3Lx5E0ZGRlzHaVd0bF0THVvXRMfWdXXn46uoqICXlxfS0tJgZmambm+utgBaX3dIpVKEh4dj37596N27N1599VXk5ORg0aJF0NHRgVwuV287b948bN++HeHh4diyZQusrKwQHR2NI0eONHkNkUgEd3d3hIWFYeLEiVAqldi5cydmzJiB33//HYGBgeptdHV1m82mp6f3xHqJC52u4BSLxRqXthvV19ern2+JadOmYenSpYiNjX1iwfm4U+0ODg5PPDPaFVVWVgIA7Ozs6Ni6EDq2romOrWvqzscGdO/jazweMzOzZzq2ttQdO3bsQF1dHZYtW4Zly5YBAGbMmIGePXvixx9/VM+Y4+Pjg4MHD2L+/PkYPHgwAMDa2hpbt27F22+/rTGzzsKFC3H+/HlcuXIFfP7DoTbh4eHo06cPlixZggsXLqhzNTQ0NJurvr6+xfWStnW6QUM2NjbN3jfZ2GZra9vifTo4OKC0tLTN2QghhBDSvbSl7jAxMcFPP/2EjIwMxMXFIT09Hfv370deXh4sLCwgkUjUfcPCwpCbm4uLFy8iMTERGRkZ6NGjBwDA3d0dANDQ0IBdu3bhlVdeURebAKCjo4NRo0YhKSlJXWTa2NhAqVSisLBQI1NDQwNKSkpaVS9pU6crOH19fZGamqr+31ejxore19e3RftjjCE9PR0WFhbtFZEQQggh3UR71B2Ojo4IDg6Gk5MTysvLcfnyZQwfPrxJP11dXQwcOBCBgYHQ1dVFbGwsAKj7lpSUQKFQQKlUNtlWLpdDpVKpn2vMlZSUpNEvKSkJKpWqxfWStnW6gjMsLEx9v0IjmUyGPXv2ICAgQD1SLDMzE7dv39bYtvEm3X+KjIxEUVERRo4c2aIcIpEIa9aseew9H10ZHVvXRMfWNdGxdU3d+diA7n18LT22ttQdzVm5ciUUCoXGBO3NuXv3LrZv344xY8aoz3BaWlpCIpHgyJEjGpfLq6urcfz4cfTq1Ut9qfzFF1+EmZkZIiMjNfYbGRkJfX19vPLKK890/B2FxzrhZJXh4eE4cuQI3nvvPbi6umLfvn24ePEiTp8+jeDgYAAPpw2Ii4vTmGtTX18fU6ZMgbe3N/T09PDnn38iKioKffv2RUJCgnr6AUIIIYSQRq2tOz755BOkpKQgICAAQqEQR48exW+//Yb169fjgw8+0HgNT09PTJ48GY6OjkhLS0NkZCSMjIyQkJAAOzs7db+IiAh8+OGH8PPzw8yZM6FUKrFr1y7cunUL3333HaZPn67u+/XXX+Odd95BWFgYRowYgfj4eHz77beIiIjAqlWrtPyutRCHk84/Vl1dHVu2bBmztrZmIpGIDRw4kJ06dUqjT0hICHs0/rx585inpyczMjJiOjo6zNXVla1YsYJVVlZ2ZHxCCCGEdCGtrTtOnDjB/P39mZGREdPX12eBgYEsOjq62deYOnUqc3BwYLq6uszW1pbNnz+fFRQUNNv3wIEDzN/fn0kkEiYWi1lAQACLiYlptu/OnTuZh4cH09XVZT179mRbtmzRWPmos+iUZzgJIYQQQkj30enu4SSEEEIIId0LFZyEEEIIIUSrqOD8h+rqaqxZswYjR46EmZkZeDwe9u7dy3WsdnHp0iUsXLgQffr0gYGBARwdHREeHo7U1FSuo7XZjRs3MHnyZPTo0QP6+vqQSqUIDg7G8ePHuY7W7iIiIsDj8Zos2dYVnT17Fjwer9nH+fPnuY7XLq5cuYJx48bBzMwM+vr68PLywhdffMF1rDaZPXv2Y79vPB5PY4m+ruju3buYOnUq7O3toa+vj169emHdunWora3lOlqbXb58GSNHjoSxsTGMjIwQGhqKq1evch2rxVryWX3r1i2MHDkShoaGMDMzw+uvv97sjDZE+zrdSkNcKi4uxrp16+Do6Ii+ffvi7NmzXEdqN//5z3+QkJCAyZMnw8fHB/n5+fjyyy/Rr18/nD9/vksXMBkZGaiqqsKsWbNga2uL2tpa/PDDDxg3bhx27NiBN998k+uI7SI7OxsbNmyAgYEB11Ha1eLFizFw4ECNNldXV47StJ/ffvsNY8eOhZ+fH1avXg1DQ0Pcv38f2dnZXEdrk7feeqvJ/IKMMcyfPx/Ozs4ao227mqysLPj7+8PExAQLFy6EmZkZEhMTsWbNGly+fBk//fQT1xFb7cqVKxgyZAgcHBywZs0aqFQqfP311wgJCcHFixfh4eHBdcRn9qyf1dnZ2QgODoaJiQk2bNiA6upqfPbZZ7h+/TouXrz42GUhiZZwPGipU6mvr2d5eXmMMcYuXbrEALA9e/ZwG6qdJCQkMJlMptGWmprKRCIRmz59OkeptEehULC+ffsyDw8PrqO0mylTprAXX3yRhYSEsD59+nAdp83OnDnDALDDhw9zHaXdVVRUMCsrK/bqq68ypVLJdRyti4+PZwBYREQE11HaJCIiggFgKSkpGu0zZ85kAFhpaSlHydpu9OjRzNTUlBUXF6vbcnNzmaGhIZs4cSKHyVruWT+r3377bSYWi1lGRoa67ffff2cA2I4dOzoqLvk/dEn9H0QiEaytrbmOoRVBQUFN/jfn5uaGPn364NatWxyl0h6BQAAHBweUl5dzHaVdnDt3DjExMdi6dSvXUbSiqqoKCoWC6xjt5uDBgygoKEBERAT4fD5qamqgUqm4jqU1Bw8eBI/Hw7Rp07iO0iaNK81YWVlptNvY2IDP53fpM2Lx8fEYPnw4zM3N1W02NjYICQnBiRMnUF1dzWG6lnnWz+offvgBY8aMgaOjo7pt+PDhcHd3R3R0tDYjkmZQwfkcY4yhoKAAUqmU6yjtoqamBsXFxbh//z62bNmCX375BS+99BLXsdpMqVRi0aJFmDdvHry9vbmO0+7mzJkDY2Nj6OnpYdiwYU2WaeuKYmNjYWxsjJycHHh4eMDQ0BDGxsZ4++23UV9fz3W8diWXyxEdHY2goCA4OztzHadNhg4dCgCYO3curl69iqysLHz//feIjIzE4sWLu/TtLDKZTL1CzT/p6+ujoaEBKSkpHKTSnpycHBQWFmLAgAFNnvP390dycjIHqZ5vdA/nc+zAgQPIycnBunXruI7SLpYuXYodO3YAAPh8PiZOnIgvv/yS41Rtt337dmRkZKjX3O0udHV1MWnSJIwePRpSqRQ3b97EZ599hhdeeAF//fUX/Pz8uI7Yanfv3oVCocD48eMxd+5cbNy4EWfPnsW2bdtQXl6OQ4cOcR2x3fz6668oKSnRWP2kqxo5ciQ+/vhjbNiwAceOHVO3f/DBB1i/fj2HydrOw8MD58+fh1KphEAgAAA0NDSo1wvv6oO9HpWXlwfg4VncR9nY2KC0tBQymaxbLu3ZWVHB+Zy6ffs23nnnHQwaNAizZs3iOk67ePfddxEWFobc3FxER0dDqVRqrEXbFZWUlOB///d/sXr1alhYWHAdp10FBQUhKChI/fW4ceMQFhYGHx8frFy5EqdOneIwXdtUV1ejtrYW8+fPV49KnzhxIhoaGrBjxw6sW7cObm5uHKdsHwcPHoSOjg7Cw8O5jtIunJ2dERwcjEmTJsHc3BwnT57Ehg0bYG1tjYULF3Idr9UWLFiAt99+G3PnzsXy5cuhUqmwfv16dWFWV1fHccL21Xg8zRWUenp66j5UcHYcuqT+HMrPz8crr7wCExMTxMTEqP+329X16tULw4cPx8yZM9X3JI0dO1Zj3duu5sMPP4SZmRkWLVrEdZQO4erqivHjx+PMmTNQKpVcx2m1xkuXr732mkZ74z2OiYmJHZ5JG6qrq/HTTz9hxIgRGvcGdlVRUVF488038c033+Bf//oXJk6ciF27dmHWrFlYsWIFSkpKuI7YavPnz8eqVatw8OBB9OnTB97e3rh//z6WL18OADA0NOQ4Yftq/B2UyWRNnmu8raW5WwyI9lDB+ZypqKjAqFGjUF5ejlOnTsHW1pbrSFoTFhaGS5cuddm5Ru/evYudO3di8eLFyM3NRXp6OtLT01FfXw+5XI709HSUlpZyHbPdOTg4oKGhATU1NVxHabXG36tHB59YWloCAMrKyjo8kzYcPXoUtbW13eJyOgB8/fXX8PPzg729vUb7uHHjUFtb2+Xv+4uIiEBBQQHi4+Px999/49KlS+rBbO7u7hyna1+Nl9Ibz+D+U15eHszMzOjsZgejgvM5Ul9fj7FjxyI1NRUnTpyAp6cn15G0qvGSSkVFBcdJWicnJwcqlQqLFy+Gi4uL+nHhwgWkpqbCxcWl29x/+08PHjyAnp5elz7j0r9/fwBN74vLzc0FgG5ze8SBAwdgaGiIcePGcR2lXRQUFDR7Zl0ulwNAt5hJwdTUFEOGDFEPQIyNjYW9vT169erFcbL2ZWdnBwsLi2YHIV68eBG+vr4dH+o5RwXnc0KpVGLKlClITEzE4cOHMWjQIK4jtZvCwsImbXK5HN9++y3EYnGXLay9vLxw5MiRJo8+ffrA0dERR44cwdy5c7mO2WrNrfZx7do1HDt2DKGhoeDzu+6fp8b7GXft2qXR/s0330AoFKpHQ3dlRUVFiI2Nxauvvgp9fX2u47QLd3d3JCcnN7kqcujQIfD5fPj4+HCUTDu+//57XLp0Ce+++26X/n17nEmTJuHEiRPIyspSt50+fRqpqamYPHkyh8meTzRo6BFffvklysvL1Wcijh8/rl4ZZNGiRTAxMeEyXqstXboUx44dw9ixY1FaWorvvvtO4/kZM2ZwlKzt3nrrLVRWViI4OBh2dnbIz8/HgQMHcPv2bWzatKnLnimTSqWYMGFCk/bGuTibe64rmTJlCsRiMYKCgmBpaYmbN29i586d0NfXxyeffMJ1vDbx8/PDG2+8gd27d0OhUCAkJARnz57F4cOHsXLlym5xK8v3338PhULRbS6nA8D777+PX375BS+88AIWLlwIc3NznDhxAr/88gvmzZvXpb9v586dw7p16xAaGgpzc3OcP38ee/bswciRI7FkyRKu47XYs3xWr1q1CocPH8awYcOwZMkSVFdX49NPP4W3tzfmzJnDZfznE9czz3c2Tk5ODECzj7S0NK7jtVpISMhjj6ur/xgcOnSIDR8+nFlZWTGhUMhMTU3Z8OHD2U8//cR1NK3oLisNff7558zf35+ZmZkxoVDIbGxs2IwZM9jdu3e5jtYuGhoa2Nq1a5mTkxPT0dFhrq6ubMuWLVzHajeBgYHM0tKSKRQKrqO0qwsXLrBRo0Yxa2trpqOjw9zd3VlERASTy+VcR2uTe/fusdDQUCaVSplIJGK9evViGzdubLICXVfxrJ/VKSkpLDQ0lOnr6zOJRMKmT5/O8vPzuQv+HOMx1oWH8BJCCCGEkE6v+920QQghhBBCOhUqOAkhhBBCiFZRwUkIIYQQQrSKCk5CCCGEEKJVVHASQgghhBCtooKTEEIIIYRoFRWchBBCCCFEq6jgJIQQQgghWkUFJyGEEEII0SoqOAkh5Dnl7OwMZ2dnrmMQQp4DVHAS0k2kp6eDx+OBx+PB2toaCoWi2X63bt1S9+O62Jg9e7Y6y7M89u7dy2ne5jx6DEKhEKampvD09MT06dMRExODhoYGTrKtXbsWPB4PZ8+e5eT1CSGkkZDrAISQ9iUUClFQUICff/4Z48aNa/L8rl27wOd3jv9rTpgwoUnRe/bsWcTFxWH8+PHw9fXVeO7RrzuTuXPnwt7eHowxVFZW4u7duzh+/DgOHjyI3r17IyoqCj4+PlzHJIQQTlDBSUg3ExQUhGvXrmH37t1NCk6FQoHvvvsOw4cPR1xcHEcJ/78JEyZgwoQJGm1r165FXFwcJkyYgNmzZ3OSqzXmzZuHwMBAjbaqqiqsWbMGW7ZsQWhoKK5cuQJbW1uOEhJCCHc6x2kOQki7EYvFmDp1Kk6ePInCwkKN506cOIGCggK88cYbzW6bm5uLNWvWIDAwEJaWlhCJRHB2dsaCBQua7OvevXswMjKCvb09SkpKnvm51ho6dCh4PB7q6+vx4YcfomfPntDR0cHatWvVfdLS0jBv3jw4OjpCJBLBxsYGs2fPRkZGRrP7bGn/ljIyMsLmzZsxe/ZsFBQUYP369U36FBYW4r333oOrqytEIhGkUikmTZqElJSUJn0b77ksLy/HW2+9BWtra+jp6cHPzw+HDh3S6Dt06FB89NFHAIBhw4Y98TaK6upqLFmyBLa2thCJRPDx8UFMTEy7vAeEEALQGU5CuqU33ngDO3bswP79+7F06VJ1++7du2FmZtbkrGKjc+fOYdOmTXjppZcQEBAAHR0dJCcnIzIyEr/++iuuXLkCExMTAICrqyu2bduGOXPmYN68eThy5AgAQC6X47XXXkNtbS2OHTsGc3Pzdj22SZMm4dq1axg5ciQkEglcXFwAABcuXMCIESNQU1ODMWPGwM3NDenp6Thw4AB++eUXJCYmokePHur9tLR/W6xevRp79+5FdHQ0vvrqK/B4PADA/fv3MXToUGRnZyM0NBQTJkxAYWEhfvjhB/z66684ffo0AgICNPbV0NCA4cOHo7q6Gq+//jpqamoQHR2NadOmobi4GIsWLQIA9dnhuLg4zJo1S11oSiQSjf3J5XKEhoairKwMkyZNQm1tLaKiohAeHo5Tp04hNDS0Xd4DQshzjhFCuoW0tDQGgI0YMYIxxpiXlxfr06eP+vm8vDwmFArZokWLGGOMiUQi5uTkpLGPgoICVlVV1WTf+/btYwDY+vXrmzw3depUBoB9/fXXjDHG3n//fQaArVy5slXHsWbNGgaA7dmzR6M9JCSEAWC+vr6spKRE47mGhgbm7OzMjIyM2JUrVzSei4+PZwKBgI0ZM6bV/Z9k1qxZDABLTEx8Yj8HBwcGgN2/f1/dFhQUxAQCATt16pRG3zt37jAjIyPm7e2t0e7k5MQAsODgYCaTydTtWVlZTCqVMpFIxLKzs9Xtje/lmTNnms3UuL/x48dr7C82NlbjZ4kQQtqKLqkT0k298cYbuHHjBi5cuAAA2LdvHxQKxWMvpwOApaUlDA0Nm7S//vrrMDY2RmxsbJPntm/fDmdnZyxduhTbtm3DZ599Bn9/f6xbt679DuYfPvroI5iZmWm0nThxAunp6Xj//ffh5+en8dyQIUMwfvx4/Pzzz6isrGxV//bQeO9mcXExACA5ORl//fUXZs2ahREjRmj0dXd3x7/+9S9cv3692UvrGzZsgK6urvpre3t7LFmyBDKZDFFRUS3OtmXLFo39vfTSS3BycsKlS5davC9CCGkOXVInpJuaMWMGVqxYgd27dyMgIAB79uyBn5/fU0d6//jjj9ixYweuXLmCsrIyKJVK9XO5ublN+puYmODAgQMIDg7G4sWLYWRkhIMHD0Io1M6fF39//yZt58+fBwDcuXNH457ORvn5+VCpVEhNTcWAAQNa3F8bGjMUFBQ0m+H27dvqf728vNTtQqEQgwYNatL/hRdeAPCwkG2Jf96W8E/29vZITExs0b4IIeRxqOAkpJuysLDA2LFjERUVhcmTJ+POnTvYtm3bE7fZtGkTli1bBgsLC4SGhsLe3h5isRgAsHXrVshksma369evH5ycnPDgwQOMGjUKPXv2bPfjaWRlZdWkrbS0FABw4MCBJ25bU1PTqv7tobFYt7Cw0Mhw8uRJnDx58pkzSKXSZqe1anxfKioqWpSr8Z7cRwmFQqhUqhbtixBCHocKTkK6sblz5+LHH3/E7Nmzoaenh+nTpz+2r0KhwMcffwwbGxtcvXoVlpaW6ucYY/jvf//72G3ff/99PHjwAObm5oiOjsasWbMwevTodj2WRo0Dbv7J2NgYAHD8+HGMGTPmqftoaf+2evDgAbKysmBhYaEevNOYYdu2bVi4cOEz76u4uBgqlapJ0VlQUADg8QUkIYRwie7hJKQbGzFiBOzs7JCTk4MJEybA1NT0sX2Li4tRUVGBQYMGaRSbAJCUlIS6urpmtzt58iS+/PJLhISEICkpCaamppgzZ466AOoIjSO5n/UScEv7t9XHH38MAJgyZYq6YG5tBoVC0ew28fHxAKBxT6pAIAAAjdsiCCGEC1RwEtKNCQQCHD16FEeOHMHGjRuf2NfS0hJisRhXrlxBbW2tur2srEw91c6j8vPzMWfOHJiamuK7776Ds7Mzdu7cicLCQsyaNQuMsXY9nscZP348HB0dsXnzZpw7d67J83K5HH/++Wer+7dWdXU1li5dir1798LGxgarVq1SP+fv74+AgAAcOnQI33//fZNtVSrVYyfnX7VqlcZymdnZ2fj8888hEokwdepUdXvj4KqsrKw2HwshhLQFXVInpJsbMGDAMw184fP5WLBgATZt2oS+ffti7NixqKysxC+//AInJ6cmK+QwxjBz5kwUFRUhJiYG9vb2AICwsDDMnTsXu3btwubNmzXmAdUWkUiEmJgYjBo1CiEhIXjxxRfh7e0NHo+HjIwMxMfHw9zcXD0Qp6X9n8U333yDU6dOgTGGqqoq3L17F3FxcaiqqkKfPn0QFRUFGxsbjW0OHTqEYcOGYerUqdi6dSv69esHsViMzMxMJCYmoqioCPX19Rrb2NjYoKamBj4+Phg7dqx6Hs6SkhJ88cUXsLOzU/dtnPB91apVuHHjBkxMTCCRSFp0CZ8QQtoFt7MyEULay6PzcD5Nc/NwNjQ0sIiICObm5sZEIhFzdHRkS5cuZVVVVczJyUmj/6effsoAsHnz5jXZd3V1NXN3d2e6urpN5rl8mqfNw/kk2dnZbMmSJer8xsbGrHfv3mzevHns9OnTbe7fnMZ5OBsfAoGASSQS5unpyaZPn84OHz7MGhoaHrt9aWkp+/DDD5mXlxcTi8XM0NCQubm5sWnTprEff/xRo2/j96C0tJS9+eabzMrKiolEIta3b1928ODBZve/d+9e5u3tzUQiEQOg8T189Hv6T8/yfhNCyLPiMdZB17wIIYS0SeOAo/T0dE5zEEJIS9E9nIQQQgghRKuo4CSEEEIIIVpFBSchhBBCCNEquoeTEEIIIYRoFZ3hJIQQQgghWkUFJyGEEEII0SoqOAkhhBBCiFZRwUkIIYQQQrSKCk5CCCGEEKJVVHASQgghhBCtooKTEEIIIYRoFRWchBBCCCFEq/4fr8y2APNgXy8AAAAASUVORK5CYII=",
      "text/plain": [
       "<Figure size 640x480 with 2 Axes>"
      ]
     },
     "metadata": {},
     "output_type": "display_data"
    }
   ],
   "source": [
    "# gbdt\n",
    "labels = ['AUC', 'Recall']\n",
    "linestyle = ['-.', '-', '--']\n",
    "cmap = plt.get_cmap('Accent')\n",
    "color = cmap(np.arange(3))\n",
    "\n",
    "plt.figure(figsize=(10, 5))\n",
    "fig, ax1 = plt.subplots()\n",
    "\n",
    "ax1.set_ylabel('AUC / Recall', fontsize = 14)\n",
    "ax1.set_xlabel('Max Tree Depth', fontsize = 14)\n",
    "ax1.set_xticks(np.arange(1, 11, 1))\n",
    "ax1.set_xlim(1, 10)\n",
    "ax1.tick_params(labelsize=12)\n",
    "for i in range(len(labels)):\n",
    "    ax1.plot([i for i in range(1, 11)], gbdt[labels[i]], linestyle[i], label=labels[i], color=color[i])\n",
    "ax1.set_ylim(0.5, 1.05)\n",
    "\n",
    "ax2 = ax1.twinx()\n",
    "ax2.plot([i for i in range(1, 11)], gbdt['Accuracy'], linestyle[2], label='Accuracy', color=color[2])\n",
    "ax2.set_ylim(0.998, 1.0004)\n",
    "ax2.set_ylabel('Accuracy', fontsize = 14)\n",
    "ax2.tick_params(labelsize=12)\n",
    "\n",
    "lines1, labels1 = ax1.get_legend_handles_labels()\n",
    "lines2, labels2 = ax2.get_legend_handles_labels()\n",
    "plt.legend(lines1 + lines2, labels1 + labels2,\n",
    "           frameon = False,\n",
    "           bbox_to_anchor=(0.3, 1.01, 0, 0),\n",
    "           fontsize = 12)\n"
   ]
  }
 ],
 "metadata": {
  "kernelspec": {
   "display_name": "Python 3",
   "language": "python",
   "name": "python3"
  },
  "language_info": {
   "codemirror_mode": {
    "name": "ipython",
    "version": 3
   },
   "file_extension": ".py",
   "mimetype": "text/x-python",
   "name": "python",
   "nbconvert_exporter": "python",
   "pygments_lexer": "ipython3",
   "version": "3.10.4"
  }
 },
 "nbformat": 4,
 "nbformat_minor": 2
}
